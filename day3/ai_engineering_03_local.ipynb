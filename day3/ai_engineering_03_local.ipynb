{
  "cells": [
    {
      "cell_type": "markdown",
      "metadata": {
        "id": "D_6-jdBOXowG"
      },
      "source": [
        "# 演習の方針\n",
        "\n",
        "1. **ベースラインモデル評価**  \n",
        "   素のモデルで回答を生成し、講義内容との整合性の低さを観察します。これにより、特別な学習なしでのモデルの限界を確認します。\n",
        "\n",
        "2. **文字起こしデータの活用**  \n",
        "   講義の文字起こしデータを導入し、モデルが講義内容を参照した回答を生成する傾向を観察します。ただし、Retrieval（情報検索）精度の限界から結果は不安定になる可能性があります。\n",
        "\n",
        "3. **チャンク化の導入**  \n",
        "   文字起こしデータをチャンク（小単位）に分割し、より安定して関連コンテンツを取得できるようにします。この段階では文脈理解にまだ課題があることを確認します。\n",
        "\n",
        "4. **Rerankの適用**  \n",
        "   検索結果のランク付けを導入し、より的確で安定した回答を目指します。\n",
        "\n",
        "5. **応用改善手法**  \n",
        "   文字起こしの品質向上のための編集技術や、メタデータの活用による性能向上手法を探ります。"
      ]
    },
    {
      "cell_type": "markdown",
      "metadata": {
        "id": "PPI1pj4mFavt"
      },
      "source": [
        "## 扱う質問\n",
        "\n",
        "「Inference Time Scaling（推論時スケーリング）」に関する質問を取り扱います。これは以下の背景を持つトピックです。\n",
        "\n",
        "- 2024年8月発表の論文「Scaling LLM Test-Time Compute Optimally can be More Effective than Scaling Model Parameters」で提唱された概念\n",
        "- OpenAIのGPT-o1（2024年9月リリース）で実用化され、注目を集めた比較的新しいアプローチ\n",
        "- 2024年度LLM講座の第4回講義でも取り上げられた重要テーマ\n",
        "\n",
        "## 扱うモデル\n",
        "\n",
        "Meta-Llama-3-8B-Instruct（2024年4月リリース）を使用します。このモデルは、リリース時期の関係上、以下の特徴を持ちます。\n",
        "\n",
        "- 「Inference Time Scaling」の概念が広まる前に訓練されており、このトピックに関する知識を持たないと想定される\n",
        "- この特性を活かし、純粋なベースライン評価から各手法の効果を観察する"
      ]
    },
    {
      "cell_type": "markdown",
      "metadata": {},
      "source": [
        "### 演習環境の準備"
      ]
    },
    {
      "cell_type": "code",
      "execution_count": 1,
      "metadata": {
        "id": "vM50WAI7GXwC"
      },
      "outputs": [
        {
          "name": "stdout",
          "output_type": "stream",
          "text": [
            "Requirement already satisfied: transformers in /home/hkawaguc/lecture-ai-engineering/venv/lib/python3.10/site-packages (4.51.3)\n",
            "Requirement already satisfied: accelerate in /home/hkawaguc/lecture-ai-engineering/venv/lib/python3.10/site-packages (1.6.0)\n",
            "Requirement already satisfied: filelock in /home/hkawaguc/lecture-ai-engineering/venv/lib/python3.10/site-packages (from transformers) (3.18.0)\n",
            "Requirement already satisfied: safetensors>=0.4.3 in /home/hkawaguc/lecture-ai-engineering/venv/lib/python3.10/site-packages (from transformers) (0.5.3)\n",
            "Requirement already satisfied: regex!=2019.12.17 in /home/hkawaguc/lecture-ai-engineering/venv/lib/python3.10/site-packages (from transformers) (2024.11.6)\n",
            "Requirement already satisfied: requests in /home/hkawaguc/lecture-ai-engineering/venv/lib/python3.10/site-packages (from transformers) (2.32.3)\n",
            "Requirement already satisfied: huggingface-hub<1.0,>=0.30.0 in /home/hkawaguc/lecture-ai-engineering/venv/lib/python3.10/site-packages (from transformers) (0.30.2)\n",
            "Requirement already satisfied: tokenizers<0.22,>=0.21 in /home/hkawaguc/lecture-ai-engineering/venv/lib/python3.10/site-packages (from transformers) (0.21.1)\n",
            "Requirement already satisfied: tqdm>=4.27 in /home/hkawaguc/lecture-ai-engineering/venv/lib/python3.10/site-packages (from transformers) (4.67.1)\n",
            "Requirement already satisfied: numpy>=1.17 in /home/hkawaguc/lecture-ai-engineering/venv/lib/python3.10/site-packages (from transformers) (2.2.5)\n",
            "Requirement already satisfied: pyyaml>=5.1 in /home/hkawaguc/lecture-ai-engineering/venv/lib/python3.10/site-packages (from transformers) (6.0.2)\n",
            "Requirement already satisfied: packaging>=20.0 in /home/hkawaguc/lecture-ai-engineering/venv/lib/python3.10/site-packages (from transformers) (25.0)\n",
            "Requirement already satisfied: psutil in /home/hkawaguc/lecture-ai-engineering/venv/lib/python3.10/site-packages (from accelerate) (7.0.0)\n",
            "Requirement already satisfied: torch>=2.0.0 in /home/hkawaguc/lecture-ai-engineering/venv/lib/python3.10/site-packages (from accelerate) (2.7.0)\n",
            "Requirement already satisfied: fsspec>=2023.5.0 in /home/hkawaguc/lecture-ai-engineering/venv/lib/python3.10/site-packages (from huggingface-hub<1.0,>=0.30.0->transformers) (2025.3.2)\n",
            "Requirement already satisfied: typing-extensions>=3.7.4.3 in /home/hkawaguc/lecture-ai-engineering/venv/lib/python3.10/site-packages (from huggingface-hub<1.0,>=0.30.0->transformers) (4.13.2)\n",
            "Requirement already satisfied: nvidia-cudnn-cu12==9.5.1.17 in /home/hkawaguc/lecture-ai-engineering/venv/lib/python3.10/site-packages (from torch>=2.0.0->accelerate) (9.5.1.17)\n",
            "Requirement already satisfied: nvidia-cusparse-cu12==12.5.4.2 in /home/hkawaguc/lecture-ai-engineering/venv/lib/python3.10/site-packages (from torch>=2.0.0->accelerate) (12.5.4.2)\n",
            "Requirement already satisfied: nvidia-nvjitlink-cu12==12.6.85 in /home/hkawaguc/lecture-ai-engineering/venv/lib/python3.10/site-packages (from torch>=2.0.0->accelerate) (12.6.85)\n",
            "Requirement already satisfied: jinja2 in /home/hkawaguc/lecture-ai-engineering/venv/lib/python3.10/site-packages (from torch>=2.0.0->accelerate) (3.1.6)\n",
            "Requirement already satisfied: nvidia-cusolver-cu12==11.7.1.2 in /home/hkawaguc/lecture-ai-engineering/venv/lib/python3.10/site-packages (from torch>=2.0.0->accelerate) (11.7.1.2)\n",
            "Requirement already satisfied: nvidia-nccl-cu12==2.26.2 in /home/hkawaguc/lecture-ai-engineering/venv/lib/python3.10/site-packages (from torch>=2.0.0->accelerate) (2.26.2)\n",
            "Requirement already satisfied: triton==3.3.0 in /home/hkawaguc/lecture-ai-engineering/venv/lib/python3.10/site-packages (from torch>=2.0.0->accelerate) (3.3.0)\n",
            "Requirement already satisfied: nvidia-cuda-cupti-cu12==12.6.80 in /home/hkawaguc/lecture-ai-engineering/venv/lib/python3.10/site-packages (from torch>=2.0.0->accelerate) (12.6.80)\n",
            "Requirement already satisfied: nvidia-cublas-cu12==12.6.4.1 in /home/hkawaguc/lecture-ai-engineering/venv/lib/python3.10/site-packages (from torch>=2.0.0->accelerate) (12.6.4.1)\n",
            "Requirement already satisfied: nvidia-cuda-runtime-cu12==12.6.77 in /home/hkawaguc/lecture-ai-engineering/venv/lib/python3.10/site-packages (from torch>=2.0.0->accelerate) (12.6.77)\n",
            "Requirement already satisfied: nvidia-nvtx-cu12==12.6.77 in /home/hkawaguc/lecture-ai-engineering/venv/lib/python3.10/site-packages (from torch>=2.0.0->accelerate) (12.6.77)\n",
            "Requirement already satisfied: nvidia-cufft-cu12==11.3.0.4 in /home/hkawaguc/lecture-ai-engineering/venv/lib/python3.10/site-packages (from torch>=2.0.0->accelerate) (11.3.0.4)\n",
            "Requirement already satisfied: nvidia-cuda-nvrtc-cu12==12.6.77 in /home/hkawaguc/lecture-ai-engineering/venv/lib/python3.10/site-packages (from torch>=2.0.0->accelerate) (12.6.77)\n",
            "Requirement already satisfied: nvidia-cusparselt-cu12==0.6.3 in /home/hkawaguc/lecture-ai-engineering/venv/lib/python3.10/site-packages (from torch>=2.0.0->accelerate) (0.6.3)\n",
            "Requirement already satisfied: nvidia-curand-cu12==10.3.7.77 in /home/hkawaguc/lecture-ai-engineering/venv/lib/python3.10/site-packages (from torch>=2.0.0->accelerate) (10.3.7.77)\n",
            "Requirement already satisfied: networkx in /home/hkawaguc/lecture-ai-engineering/venv/lib/python3.10/site-packages (from torch>=2.0.0->accelerate) (3.4.2)\n",
            "Requirement already satisfied: nvidia-cufile-cu12==1.11.1.6 in /home/hkawaguc/lecture-ai-engineering/venv/lib/python3.10/site-packages (from torch>=2.0.0->accelerate) (1.11.1.6)\n",
            "Requirement already satisfied: sympy>=1.13.3 in /home/hkawaguc/lecture-ai-engineering/venv/lib/python3.10/site-packages (from torch>=2.0.0->accelerate) (1.14.0)\n",
            "Requirement already satisfied: setuptools>=40.8.0 in /home/hkawaguc/lecture-ai-engineering/venv/lib/python3.10/site-packages (from triton==3.3.0->torch>=2.0.0->accelerate) (59.6.0)\n",
            "Requirement already satisfied: charset-normalizer<4,>=2 in /home/hkawaguc/lecture-ai-engineering/venv/lib/python3.10/site-packages (from requests->transformers) (3.4.1)\n",
            "Requirement already satisfied: urllib3<3,>=1.21.1 in /home/hkawaguc/lecture-ai-engineering/venv/lib/python3.10/site-packages (from requests->transformers) (2.4.0)\n",
            "Requirement already satisfied: certifi>=2017.4.17 in /home/hkawaguc/lecture-ai-engineering/venv/lib/python3.10/site-packages (from requests->transformers) (2025.4.26)\n",
            "Requirement already satisfied: idna<4,>=2.5 in /home/hkawaguc/lecture-ai-engineering/venv/lib/python3.10/site-packages (from requests->transformers) (3.10)\n",
            "Requirement already satisfied: mpmath<1.4,>=1.1.0 in /home/hkawaguc/lecture-ai-engineering/venv/lib/python3.10/site-packages (from sympy>=1.13.3->torch>=2.0.0->accelerate) (1.3.0)\n",
            "Requirement already satisfied: MarkupSafe>=2.0 in /home/hkawaguc/lecture-ai-engineering/venv/lib/python3.10/site-packages (from jinja2->torch>=2.0.0->accelerate) (3.0.2)\n"
          ]
        }
      ],
      "source": [
        "# !pip install --upgrade transformers\n",
        "!pip install --upgrade transformers accelerate\n",
        "# !pip install google-colab-selenium\n",
        "# !pip install bitsandbytes"
      ]
    },
    {
      "cell_type": "code",
      "execution_count": null,
      "metadata": {
        "id": "_vs-Ri1Tslqw"
      },
      "outputs": [],
      "source": [
        "# 演習用のコンテンツを取得\n",
        "!git clone https://github.com/matsuolab/lecture-ai-engineering.git"
      ]
    },
    {
      "cell_type": "code",
      "execution_count": 8,
      "metadata": {
        "id": "zXo_kFASXlvp"
      },
      "outputs": [
        {
          "data": {
            "application/vnd.jupyter.widget-view+json": {
              "model_id": "0511178f7e8f4b8497aec8d65f6a1800",
              "version_major": 2,
              "version_minor": 0
            },
            "text/plain": [
              "VBox(children=(HTML(value='<center> <img\\nsrc=https://huggingface.co/front/assets/huggingface_logo-noborder.sv…"
            ]
          },
          "metadata": {},
          "output_type": "display_data"
        }
      ],
      "source": [
        "# HuggingFace Login\n",
        "from huggingface_hub import notebook_login\n",
        "\n",
        "notebook_login()"
      ]
    },
    {
      "cell_type": "code",
      "execution_count": 5,
      "metadata": {
        "id": "dZ_NUIftXwLc"
      },
      "outputs": [],
      "source": [
        "# CUDAが利用可能ならGPUを、それ以外ならCPUをデバイスとして設定\n",
        "import torch\n",
        "device = torch.device(\"cuda\" if torch.cuda.is_available() else \"cpu\")"
      ]
    },
    {
      "cell_type": "code",
      "execution_count": 6,
      "metadata": {
        "id": "7eTgV8XBPA90"
      },
      "outputs": [],
      "source": [
        "import random\n",
        "random.seed(0)"
      ]
    },
    {
      "cell_type": "code",
      "execution_count": null,
      "metadata": {
        "id": "6tV9mO8oXoaM"
      },
      "outputs": [
        {
          "data": {
            "application/vnd.jupyter.widget-view+json": {
              "model_id": "fdcc291f4dc743eda67cf4ebafc2faaf",
              "version_major": 2,
              "version_minor": 0
            },
            "text/plain": [
              "Loading checkpoint shards:   0%|          | 0/2 [00:00<?, ?it/s]"
            ]
          },
          "metadata": {},
          "output_type": "display_data"
        }
      ],
      "source": [
        "# モデル(Llama3)の読み込み\n",
        "\n",
        "# from transformers import AutoModelForCausalLM, AutoTokenizer, BitsAndBytesConfig\n",
        "from transformers import AutoModelForCausalLM, AutoTokenizer\n",
        "\n",
        "# model_name = \"meta-llama/Meta-Llama-3-8B-Instruct\"\n",
        "# model_name = \"meta-llama/Llama-3.1-8B-Instruct\"\n",
        "model_name = \"meta-llama/Llama-3.2-3B-Instruct\"\n",
        "tokenizer = AutoTokenizer.from_pretrained(model_name)\n",
        "\n",
        "# bnb_config = BitsAndBytesConfig(\n",
        "#     load_in_4bit=True,\n",
        "#     bnb_4bit_compute_dtype=torch.float16,\n",
        "#     bnb_4bit_quant_type=\"nf4\",\n",
        "#     bnb_4bit_use_double_quant=False,\n",
        "# )\n",
        "\n",
        "model = AutoModelForCausalLM.from_pretrained(\n",
        "            model_name,\n",
        "            device_map=\"auto\",\n",
        "            # quantization_config=bnb_config,\n",
        "            torch_dtype=torch.bfloat16,\n",
        "        )"
      ]
    },
    {
      "cell_type": "markdown",
      "metadata": {
        "id": "piTdVxTfGcc_"
      },
      "source": [
        "# 1. ベースラインモデル評価\n",
        "**まずはベースモデルがどの程度知識を持っているか確かめる**"
      ]
    },
    {
      "cell_type": "code",
      "execution_count": 10,
      "metadata": {
        "id": "NBUZ3o6dhMlC"
      },
      "outputs": [
        {
          "name": "stderr",
          "output_type": "stream",
          "text": [
            "/home/hkawaguc/lecture-ai-engineering/venv/lib/python3.10/site-packages/transformers/generation/configuration_utils.py:631: UserWarning: `do_sample` is set to `False`. However, `temperature` is set to `0.6` -- this flag is only used in sample-based generation modes. You should set `do_sample=True` or unset `temperature`.\n",
            "  warnings.warn(\n",
            "/home/hkawaguc/lecture-ai-engineering/venv/lib/python3.10/site-packages/transformers/generation/configuration_utils.py:636: UserWarning: `do_sample` is set to `False`. However, `top_p` is set to `0.9` -- this flag is only used in sample-based generation modes. You should set `do_sample=True` or unset `top_p`.\n",
            "  warnings.warn(\n",
            "The attention mask and the pad token id were not set. As a consequence, you may observe unexpected behavior. Please pass your input's `attention_mask` to obtain reliable results.\n",
            "Setting `pad_token_id` to `eos_token_id`:128009 for open-end generation.\n"
          ]
        },
        {
          "name": "stderr",
          "output_type": "stream",
          "text": [
            "The attention mask is not set and cannot be inferred from input because pad token is same as eos token. As a consequence, you may observe unexpected behavior. Please pass your input's `attention_mask` to obtain reliable results.\n"
          ]
        }
      ],
      "source": [
        "messages = [\n",
        "    {\"role\": \"system\", \"content\": \"質問に回答してください。必ず「日本語で回答」すること。\"},\n",
        "    {\"role\": \"user\", \"content\": \"LLMにおけるInference Time Scalingとは？\"},\n",
        "]\n",
        "input_ids = tokenizer.apply_chat_template(\n",
        "    messages,\n",
        "    add_generation_prompt=True,\n",
        "    return_tensors=\"pt\"\n",
        ").to(model.device)\n",
        "\n",
        "terminators = [\n",
        "    tokenizer.eos_token_id,\n",
        "    tokenizer.convert_tokens_to_ids(\"<|eot_id|>\")\n",
        "]\n",
        "\n",
        "outputs = model.generate(\n",
        "    input_ids,\n",
        "    max_new_tokens=256,\n",
        "    eos_token_id=terminators,\n",
        "    do_sample=False,\n",
        "    # temperature=0.6, # If do_sample=True\n",
        "    # top_p=0.9,  # If do_sample=True\n",
        ")"
      ]
    },
    {
      "cell_type": "code",
      "execution_count": 11,
      "metadata": {
        "id": "4ZXyEnZ3lrBd"
      },
      "outputs": [
        {
          "name": "stdout",
          "output_type": "stream",
          "text": [
            "LLM（Large Language Model）におけるInference Time Scalingは、モデルが処理するテキストの長さに応じて、処理時間を調整する技術です。\n",
            "\n",
            "一般的には、LLMは長いテキストを処理するときに、処理時間が長くなることがあります。これは、モデルが長いテキストを理解するために、より多くのパラメータを使用する必要があるためです。ただし、長いテキストを処理するときに、モデルが処理時間を長くかかることは、ユーザーの体験に悪影響を及ぼす可能性があります。\n",
            "\n",
            "Inference Time Scalingは、LLMを処理するときに、テキストの長さに応じて、モデルが使用するパラメータの数を調整することで、処理時間を短縮することを目指しています。つまり、長いテキストを処理するときに、モデルはより少ないパラメータを使用することで、処理時間を短縮できます。\n",
            "\n",
            "この技術を実装するには、LLMを処理するときに、テキストの長\n"
          ]
        }
      ],
      "source": [
        "response = outputs[0][input_ids.shape[-1]:]\n",
        "print(tokenizer.decode(response, skip_special_tokens=True))"
      ]
    },
    {
      "cell_type": "markdown",
      "metadata": {
        "id": "ZSCNnRf9pJif"
      },
      "source": [
        "## 結果 (ベースモデル)\n",
        "\n",
        "Meta-Llama-3-8B-Instructは「Inference Time Scaling」について誤った知識を提示しました：\n",
        "* モデルは従来の「推論時間の短縮」という文脈でInference Time Scalingを解釈しており、これはLLM分野における最新の「Inference Time Scaling」概念（推論時計算資源の最適配分）とは異なる説明になります。\n",
        "\n",
        "---"
      ]
    },
    {
      "cell_type": "markdown",
      "metadata": {
        "id": "k4R-hiKNGyJd"
      },
      "source": [
        "# 2. 文字起こしデータの活用\n",
        "## 講義内容をソースとして活用 (RAG導入)\n",
        "\n",
        "モデルの回答の事実性を向上させるためにRetrieval Augmented Generation (RAG)技術を導入します：\n",
        "\n",
        "* **知識ソース**: LLM講座第4講における講師の発言内容\n",
        "* **目的**: モデルに「Inference Time Scaling」に関する正確な知識と文脈を提供し、事実に基づいた回答を促す\n",
        "\n",
        "**初期RAG実装（ベーシックアプローチ）**:\n",
        "* **ドキュメント処理**: 音声認識モデル(speech2text)で書き起こした生テキストをそのまま使用\n",
        "* **分割方法**: 「。」（句点）で区切られた文単位でテキストを分割\n",
        "* **検索手法**: シンプルな類似度ベースの検索でクエリに関連する文を抽出\n",
        "* **制約条件**: モデルの入力トークン制限に収まるよう関連文のみを選択"
      ]
    },
    {
      "cell_type": "code",
      "execution_count": 16,
      "metadata": {},
      "outputs": [
        {
          "name": "stderr",
          "output_type": "stream",
          "text": [
            "huggingface/tokenizers: The current process just got forked, after parallelism has already been used. Disabling parallelism to avoid deadlocks...\n",
            "To disable this warning, you can either:\n",
            "\t- Avoid using `tokenizers` before the fork if possible\n",
            "\t- Explicitly set the environment variable TOKENIZERS_PARALLELISM=(true | false)\n"
          ]
        },
        {
          "name": "stdout",
          "output_type": "stream",
          "text": [
            "Collecting sentence_transformers\n",
            "  Downloading sentence_transformers-4.1.0-py3-none-any.whl (345 kB)\n",
            "\u001b[2K     \u001b[90m━━━━━━━━━━━━━━━━━━━━━━━━━━━━━━━━━━━━━━━\u001b[0m \u001b[32m345.7/345.7 KB\u001b[0m \u001b[31m6.5 MB/s\u001b[0m eta \u001b[36m0:00:00\u001b[0ma \u001b[36m0:00:01\u001b[0m\n",
            "\u001b[?25hRequirement already satisfied: torch>=1.11.0 in /home/hkawaguc/lecture-ai-engineering/venv/lib/python3.10/site-packages (from sentence_transformers) (2.7.0)\n",
            "Collecting scikit-learn\n",
            "  Using cached scikit_learn-1.6.1-cp310-cp310-manylinux_2_17_x86_64.manylinux2014_x86_64.whl (13.5 MB)\n",
            "Requirement already satisfied: huggingface-hub>=0.20.0 in /home/hkawaguc/lecture-ai-engineering/venv/lib/python3.10/site-packages (from sentence_transformers) (0.30.2)\n",
            "Collecting scipy\n",
            "  Using cached scipy-1.15.2-cp310-cp310-manylinux_2_17_x86_64.manylinux2014_x86_64.whl (37.6 MB)\n",
            "Requirement already satisfied: tqdm in /home/hkawaguc/lecture-ai-engineering/venv/lib/python3.10/site-packages (from sentence_transformers) (4.67.1)\n",
            "Requirement already satisfied: transformers<5.0.0,>=4.41.0 in /home/hkawaguc/lecture-ai-engineering/venv/lib/python3.10/site-packages (from sentence_transformers) (4.51.3)\n",
            "Collecting Pillow\n",
            "  Downloading pillow-11.2.1-cp310-cp310-manylinux_2_28_x86_64.whl (4.6 MB)\n",
            "\u001b[2K     \u001b[90m━━━━━━━━━━━━━━━━━━━━━━━━━━━━━━━━━━━━━━━━\u001b[0m \u001b[32m4.6/4.6 MB\u001b[0m \u001b[31m45.7 MB/s\u001b[0m eta \u001b[36m0:00:00\u001b[0ma \u001b[36m0:00:01\u001b[0m\n",
            "\u001b[?25hRequirement already satisfied: typing_extensions>=4.5.0 in /home/hkawaguc/lecture-ai-engineering/venv/lib/python3.10/site-packages (from sentence_transformers) (4.13.2)\n",
            "Requirement already satisfied: filelock in /home/hkawaguc/lecture-ai-engineering/venv/lib/python3.10/site-packages (from huggingface-hub>=0.20.0->sentence_transformers) (3.18.0)\n",
            "Requirement already satisfied: fsspec>=2023.5.0 in /home/hkawaguc/lecture-ai-engineering/venv/lib/python3.10/site-packages (from huggingface-hub>=0.20.0->sentence_transformers) (2025.3.2)\n",
            "Requirement already satisfied: packaging>=20.9 in /home/hkawaguc/lecture-ai-engineering/venv/lib/python3.10/site-packages (from huggingface-hub>=0.20.0->sentence_transformers) (25.0)\n",
            "Requirement already satisfied: pyyaml>=5.1 in /home/hkawaguc/lecture-ai-engineering/venv/lib/python3.10/site-packages (from huggingface-hub>=0.20.0->sentence_transformers) (6.0.2)\n",
            "Requirement already satisfied: requests in /home/hkawaguc/lecture-ai-engineering/venv/lib/python3.10/site-packages (from huggingface-hub>=0.20.0->sentence_transformers) (2.32.3)\n",
            "Requirement already satisfied: nvidia-cufft-cu12==11.3.0.4 in /home/hkawaguc/lecture-ai-engineering/venv/lib/python3.10/site-packages (from torch>=1.11.0->sentence_transformers) (11.3.0.4)\n",
            "Requirement already satisfied: nvidia-cusparselt-cu12==0.6.3 in /home/hkawaguc/lecture-ai-engineering/venv/lib/python3.10/site-packages (from torch>=1.11.0->sentence_transformers) (0.6.3)\n",
            "Requirement already satisfied: nvidia-cudnn-cu12==9.5.1.17 in /home/hkawaguc/lecture-ai-engineering/venv/lib/python3.10/site-packages (from torch>=1.11.0->sentence_transformers) (9.5.1.17)\n",
            "Requirement already satisfied: jinja2 in /home/hkawaguc/lecture-ai-engineering/venv/lib/python3.10/site-packages (from torch>=1.11.0->sentence_transformers) (3.1.6)\n",
            "Requirement already satisfied: nvidia-nvjitlink-cu12==12.6.85 in /home/hkawaguc/lecture-ai-engineering/venv/lib/python3.10/site-packages (from torch>=1.11.0->sentence_transformers) (12.6.85)\n",
            "Requirement already satisfied: nvidia-curand-cu12==10.3.7.77 in /home/hkawaguc/lecture-ai-engineering/venv/lib/python3.10/site-packages (from torch>=1.11.0->sentence_transformers) (10.3.7.77)\n",
            "Requirement already satisfied: nvidia-cusparse-cu12==12.5.4.2 in /home/hkawaguc/lecture-ai-engineering/venv/lib/python3.10/site-packages (from torch>=1.11.0->sentence_transformers) (12.5.4.2)\n",
            "Requirement already satisfied: nvidia-cuda-nvrtc-cu12==12.6.77 in /home/hkawaguc/lecture-ai-engineering/venv/lib/python3.10/site-packages (from torch>=1.11.0->sentence_transformers) (12.6.77)\n",
            "Requirement already satisfied: networkx in /home/hkawaguc/lecture-ai-engineering/venv/lib/python3.10/site-packages (from torch>=1.11.0->sentence_transformers) (3.4.2)\n",
            "Requirement already satisfied: nvidia-nvtx-cu12==12.6.77 in /home/hkawaguc/lecture-ai-engineering/venv/lib/python3.10/site-packages (from torch>=1.11.0->sentence_transformers) (12.6.77)\n",
            "Requirement already satisfied: nvidia-cuda-cupti-cu12==12.6.80 in /home/hkawaguc/lecture-ai-engineering/venv/lib/python3.10/site-packages (from torch>=1.11.0->sentence_transformers) (12.6.80)\n",
            "Requirement already satisfied: triton==3.3.0 in /home/hkawaguc/lecture-ai-engineering/venv/lib/python3.10/site-packages (from torch>=1.11.0->sentence_transformers) (3.3.0)\n",
            "Requirement already satisfied: sympy>=1.13.3 in /home/hkawaguc/lecture-ai-engineering/venv/lib/python3.10/site-packages (from torch>=1.11.0->sentence_transformers) (1.14.0)\n",
            "Requirement already satisfied: nvidia-cufile-cu12==1.11.1.6 in /home/hkawaguc/lecture-ai-engineering/venv/lib/python3.10/site-packages (from torch>=1.11.0->sentence_transformers) (1.11.1.6)\n",
            "Requirement already satisfied: nvidia-nccl-cu12==2.26.2 in /home/hkawaguc/lecture-ai-engineering/venv/lib/python3.10/site-packages (from torch>=1.11.0->sentence_transformers) (2.26.2)\n",
            "Requirement already satisfied: nvidia-cusolver-cu12==11.7.1.2 in /home/hkawaguc/lecture-ai-engineering/venv/lib/python3.10/site-packages (from torch>=1.11.0->sentence_transformers) (11.7.1.2)\n",
            "Requirement already satisfied: nvidia-cublas-cu12==12.6.4.1 in /home/hkawaguc/lecture-ai-engineering/venv/lib/python3.10/site-packages (from torch>=1.11.0->sentence_transformers) (12.6.4.1)\n",
            "Requirement already satisfied: nvidia-cuda-runtime-cu12==12.6.77 in /home/hkawaguc/lecture-ai-engineering/venv/lib/python3.10/site-packages (from torch>=1.11.0->sentence_transformers) (12.6.77)\n",
            "Requirement already satisfied: setuptools>=40.8.0 in /home/hkawaguc/lecture-ai-engineering/venv/lib/python3.10/site-packages (from triton==3.3.0->torch>=1.11.0->sentence_transformers) (59.6.0)\n",
            "Requirement already satisfied: numpy>=1.17 in /home/hkawaguc/lecture-ai-engineering/venv/lib/python3.10/site-packages (from transformers<5.0.0,>=4.41.0->sentence_transformers) (2.2.5)\n",
            "Requirement already satisfied: regex!=2019.12.17 in /home/hkawaguc/lecture-ai-engineering/venv/lib/python3.10/site-packages (from transformers<5.0.0,>=4.41.0->sentence_transformers) (2024.11.6)\n",
            "Requirement already satisfied: safetensors>=0.4.3 in /home/hkawaguc/lecture-ai-engineering/venv/lib/python3.10/site-packages (from transformers<5.0.0,>=4.41.0->sentence_transformers) (0.5.3)\n",
            "Requirement already satisfied: tokenizers<0.22,>=0.21 in /home/hkawaguc/lecture-ai-engineering/venv/lib/python3.10/site-packages (from transformers<5.0.0,>=4.41.0->sentence_transformers) (0.21.1)\n",
            "Collecting threadpoolctl>=3.1.0\n",
            "  Downloading threadpoolctl-3.6.0-py3-none-any.whl (18 kB)\n",
            "Collecting joblib>=1.2.0\n",
            "  Using cached joblib-1.4.2-py3-none-any.whl (301 kB)\n",
            "Requirement already satisfied: mpmath<1.4,>=1.1.0 in /home/hkawaguc/lecture-ai-engineering/venv/lib/python3.10/site-packages (from sympy>=1.13.3->torch>=1.11.0->sentence_transformers) (1.3.0)\n",
            "Requirement already satisfied: MarkupSafe>=2.0 in /home/hkawaguc/lecture-ai-engineering/venv/lib/python3.10/site-packages (from jinja2->torch>=1.11.0->sentence_transformers) (3.0.2)\n",
            "Requirement already satisfied: certifi>=2017.4.17 in /home/hkawaguc/lecture-ai-engineering/venv/lib/python3.10/site-packages (from requests->huggingface-hub>=0.20.0->sentence_transformers) (2025.4.26)\n",
            "Requirement already satisfied: urllib3<3,>=1.21.1 in /home/hkawaguc/lecture-ai-engineering/venv/lib/python3.10/site-packages (from requests->huggingface-hub>=0.20.0->sentence_transformers) (2.4.0)\n",
            "Requirement already satisfied: idna<4,>=2.5 in /home/hkawaguc/lecture-ai-engineering/venv/lib/python3.10/site-packages (from requests->huggingface-hub>=0.20.0->sentence_transformers) (3.10)\n",
            "Requirement already satisfied: charset-normalizer<4,>=2 in /home/hkawaguc/lecture-ai-engineering/venv/lib/python3.10/site-packages (from requests->huggingface-hub>=0.20.0->sentence_transformers) (3.4.1)\n",
            "Installing collected packages: threadpoolctl, scipy, Pillow, joblib, scikit-learn, sentence_transformers\n",
            "Successfully installed Pillow-11.2.1 joblib-1.4.2 scikit-learn-1.6.1 scipy-1.15.2 sentence_transformers-4.1.0 threadpoolctl-3.6.0\n"
          ]
        }
      ],
      "source": [
        "!pip install sentence_transformers"
      ]
    },
    {
      "cell_type": "code",
      "execution_count": 12,
      "metadata": {
        "id": "47GvcceyObAl"
      },
      "outputs": [],
      "source": [
        "from sentence_transformers import SentenceTransformer\n",
        "\n",
        "emb_model = SentenceTransformer(\"infly/inf-retriever-v1-1.5b\", trust_remote_code=True)\n",
        "# In case you want to reduce the maximum length:\n",
        "emb_model.max_seq_length = 8192"
      ]
    },
    {
      "cell_type": "code",
      "execution_count": 13,
      "metadata": {
        "id": "kPwggQfUS5yl"
      },
      "outputs": [],
      "source": [
        "# with open(\"/content/lecture-ai-engineering/day3/data/LLM2024_day4_raw.txt\", \"r\") as f:\n",
        "with open(\"./data/LLM2024_day4_raw.txt\", \"r\") as f:\n",
        "  raw_writedown = f.read()"
      ]
    },
    {
      "cell_type": "code",
      "execution_count": 14,
      "metadata": {
        "id": "kxzKF6L2THIw"
      },
      "outputs": [
        {
          "name": "stdout",
          "output_type": "stream",
          "text": [
            "ドキュメントサイズ:  306\n",
            "ドキュメントの例: \n",
            " このDecodingにもいろんな方法があってグリーンDecodingだと単純に一番いいやつを選んでいく、一番確率が高いやつ選んでいくので、すごい単純ですけど、こういうトップKeyを取るとかトップ系を取るとかして、最後に一番いいやつを選ぶみたいなことをすると、これも結局計算をたくさんしてることになるわけですね\n"
          ]
        }
      ],
      "source": [
        "# ドキュメントを用意する。\n",
        "documents = [text.strip() for text in raw_writedown.split(\"。\")]\n",
        "print(\"ドキュメントサイズ: \", len(documents))\n",
        "print(\"ドキュメントの例: \\n\", documents[250])"
      ]
    },
    {
      "cell_type": "code",
      "execution_count": 15,
      "metadata": {
        "id": "nK4cYURzTHIx"
      },
      "outputs": [
        {
          "name": "stdout",
          "output_type": "stream",
          "text": [
            "[[61.59343719482422, 65.9657211303711, 59.183837890625, 53.39192581176758, 51.56049728393555, 58.39973831176758, 60.753273010253906, 54.146812438964844, 61.97444152832031, 62.8603515625, 58.38920974731445, 59.106563568115234, 55.34400177001953, 57.35873031616211, 59.76054763793945, 58.148460388183594, 62.52421188354492, 57.502044677734375, 56.67036819458008, 59.72065734863281, 59.44034957885742, 64.4664077758789, 62.219512939453125, 60.3381233215332, 53.73784255981445, 64.26371765136719, 57.02452850341797, 62.4527702331543, 56.5836067199707, 56.53038787841797, 56.8497428894043, 54.06621551513672, 51.05956268310547, 51.92836380004883, 56.22756576538086, 56.700927734375, 57.82662582397461, 57.070499420166016, 59.671531677246094, 59.15917205810547, 57.539283752441406, 52.953147888183594, 55.697811126708984, 54.768253326416016, 58.135719299316406, 61.39668273925781, 58.759300231933594, 61.92473220825195, 56.53303146362305, 58.76430130004883, 59.05451965332031, 53.0557861328125, 58.97365951538086, 54.52426528930664, 57.427574157714844, 59.285675048828125, 62.760520935058594, 56.34705352783203, 60.85685348510742, 62.39311599731445, 61.11343002319336, 61.137367248535156, 64.14793395996094, 58.20453643798828, 57.47321701049805, 60.13043975830078, 55.97048568725586, 64.84014892578125, 67.5259017944336, 60.022281646728516, 56.822349548339844, 61.0826416015625, 62.65666961669922, 53.12925720214844, 62.0605583190918, 63.264835357666016, 58.890289306640625, 56.651161193847656, 60.03711700439453, 58.89217758178711, 56.253623962402344, 58.516563415527344, 62.26040267944336, 58.37112808227539, 60.16222381591797, 53.603816986083984, 59.00654602050781, 52.598453521728516, 55.51751708984375, 63.140625, 50.35770034790039, 53.59747314453125, 61.94247055053711, 60.36606979370117, 59.50519943237305, 58.828372955322266, 59.113468170166016, 57.043731689453125, 59.199703216552734, 60.69469451904297, 53.668357849121094, 58.905677795410156, 60.098533630371094, 59.615562438964844, 61.43124008178711, 61.45719909667969, 50.2408561706543, 52.52015686035156, 60.96909713745117, 59.19780731201172, 50.2408561706543, 52.39109802246094, 56.83891677856445, 60.02225875854492, 55.94294738769531, 53.325462341308594, 59.08684158325195, 53.98493957519531, 57.36842727661133, 62.803924560546875, 60.34698486328125, 52.5777702331543, 55.48026657104492, 52.886878967285156, 59.07986068725586, 50.959938049316406, 59.55916213989258, 51.66522216796875, 55.21454620361328, 61.09978485107422, 63.517250061035156, 60.97350311279297, 54.600059509277344, 58.94331359863281, 53.8635368347168, 53.551483154296875, 60.74278259277344, 62.586448669433594, 53.83394241333008, 58.310890197753906, 55.14631271362305, 52.70307159423828, 60.77043914794922, 53.25838851928711, 57.66755294799805, 59.590065002441406, 55.88142776489258, 55.26102828979492, 59.18765640258789, 54.07136535644531, 59.3038215637207, 59.03515625, 55.09025955200195, 56.25505447387695, 54.55915832519531, 58.246402740478516, 53.230560302734375, 56.8333740234375, 51.69002914428711, 52.343238830566406, 52.96864318847656, 58.1914176940918, 56.510196685791016, 52.358150482177734, 60.13270568847656, 51.677703857421875, 59.77176284790039, 60.727821350097656, 61.02545928955078, 60.298824310302734, 54.83368682861328, 55.47151565551758, 58.63666534423828, 57.46543884277344, 54.687164306640625, 61.05807876586914, 53.972572326660156, 62.330604553222656, 56.69196701049805, 64.29451751708984, 50.98242950439453, 58.14501190185547, 60.741432189941406, 51.521240234375, 60.080623626708984, 55.632774353027344, 60.15095520019531, 54.01957702636719, 55.90174102783203, 58.971248626708984, 54.740352630615234, 59.07884216308594, 54.47161102294922, 59.47852325439453, 55.326904296875, 60.27956008911133, 57.61076354980469, 56.05436706542969, 54.40738296508789, 57.74769592285156, 55.57816696166992, 58.21586227416992, 56.841365814208984, 55.53963851928711, 57.32146072387695, 61.358272552490234, 52.53887939453125, 58.91227722167969, 55.76921844482422, 58.62628173828125, 58.062137603759766, 52.156681060791016, 59.71082305908203, 58.45845413208008, 60.426509857177734, 59.23356246948242, 63.2212028503418, 65.19071960449219, 55.16367721557617, 58.17953872680664, 53.25232696533203, 60.730743408203125, 59.32404327392578, 64.23860931396484, 60.02360534667969, 57.25190734863281, 57.623695373535156, 55.7560920715332, 55.47102737426758, 53.413330078125, 59.03955078125, 60.61446762084961, 59.21173095703125, 56.19184494018555, 65.13485717773438, 62.73875427246094, 53.50629806518555, 58.820960998535156, 53.48069763183594, 53.85786437988281, 61.77279281616211, 58.27069854736328, 64.81014251708984, 62.740360260009766, 61.91754150390625, 54.29420471191406, 59.3684196472168, 52.00450897216797, 64.30941772460938, 55.77977752685547, 55.772178649902344, 54.83122634887695, 54.26921844482422, 51.08736038208008, 60.67216491699219, 53.28398895263672, 64.4223861694336, 59.609378814697266, 58.74237823486328, 51.24445724487305, 51.99839401245117, 53.49693298339844, 50.99222183227539, 53.30514144897461, 60.918174743652344, 57.45388412475586, 59.2640266418457, 58.08662033081055, 55.939884185791016, 57.52497482299805, 56.61845397949219, 55.11540222167969, 54.41426467895508, 57.486873626708984, 59.7740364074707, 50.504356384277344, 56.38310241699219, 58.3084716796875, 53.411338806152344, 57.85080337524414, 55.05585479736328, 58.502174377441406, 58.254112243652344, 59.387821197509766, 57.62220764160156, 51.890899658203125, 59.04951095581055, 52.76813507080078, 53.97230529785156, 55.65436935424805, 58.468204498291016, 54.176700592041016, 53.57705307006836, 55.12431335449219, 56.64708709716797, 58.71660614013672, 57.16208267211914, 56.76271438598633, 58.230506896972656, 54.2069091796875, 64.05836486816406, 57.67234420776367, 62.739418029785156, 66.03399658203125, 55.57801055908203, 50.884700775146484]]\n"
          ]
        }
      ],
      "source": [
        "# Retrievalの実行\n",
        "question = \"LLMにおけるInference Time Scalingとは？\"\n",
        "\n",
        "query_embeddings = emb_model.encode([question], prompt_name=\"query\")\n",
        "document_embeddings = emb_model.encode(documents)\n",
        "\n",
        "# 各ドキュメントの類似度スコア\n",
        "scores = (query_embeddings @ document_embeddings.T) * 100\n",
        "print(scores.tolist())"
      ]
    },
    {
      "cell_type": "code",
      "execution_count": 16,
      "metadata": {
        "id": "b_v8gx_tTHIx"
      },
      "outputs": [
        {
          "name": "stdout",
          "output_type": "stream",
          "text": [
            "取得したドキュメント1: (Score: 67.5259017944336)\n",
            "Trasnformerの場合はスケール則がごめんなパラメータ数が横軸になってますけどこういうふうになると、LLMの場合の一掃にソヨンそうなのでそれぞれ計測と書くとこんなふうになりますよということで、Trasnformer以外のスケール則っていうのもあの研修をされて、深さについても検証してまして、これも他のモデルが何だったかちょっと忘れちゃったけどリスキーだったような気がしますけどそう変えたときにどういうふうな変化するかっていうのをこういった形でプロットするようなGENIACすることができます \n",
            "\n",
            "\n",
            "取得したドキュメント2: (Score: 66.03399658203125)\n",
            "1月に論文としてまして、スケーリングLLMthisTimeコンピュート口真理ちゃん日は増えてるっていうことで、良いらしいというふうに言われてます \n",
            "\n",
            "\n",
            "取得したドキュメント3: (Score: 65.9657211303711)\n",
            "あのスケールするっていうところではタイトルの通りなんですけど、ちょっとこれスケーリングPretrainingってなってるんですけれども、ちょっと最近はですね、このPretrainingだけではなくて、推論をスケールさせるというような話も出てきてましてせっかくなのでその最近の話題ということですレンジのスケーリングことでちょっとタイトル詐欺が入ってるんですけどPretrainingだけじゃない、スケーリングを扱うということでちょっと若干あのタイトル詐欺なんですけども、あの最近の話題ということで水土日のスケジュールについても話していきたいなと思っています \n",
            "\n",
            "\n",
            "取得したドキュメント4: (Score: 65.19071960449219)\n",
            "気にしながらっていうのの実例を出した方がわかりやすいと思うので、実際にこれ開発者じゃないので、あの結果を見て推論してるだけなんで嘘ついてるかもしれないですけど例えばLlama3の論文を持ってくると8Billon70Billon405Billonって層の数モデルDimension埋め込みの数次元ですね、フィードフォワードの次元、アテンションの数っていうのを、こういうふうにしたよっていうふうに言われてます \n",
            "\n",
            "\n",
            "取得したドキュメント5: (Score: 65.13485717773438)\n",
            "ちなみにLlamaの場合はなんかちょっと論文見たんですけどちょっと厳密によくわかんなくてなんか参照したよっていうふうに書いてあるんすけど実際ラーニング例とは何かちょっといじってるみたいなので、この辺どうやってるかっていうの多分論文とか図形なモデルによると思うのでちょっとモデルを実際興味ある人は見てもらえばと思います \n",
            "\n",
            "\n"
          ]
        }
      ],
      "source": [
        "topk = 5\n",
        "for i, index in enumerate(scores.argsort()[0][::-1][:topk]):\n",
        "  print(f\"取得したドキュメント{i+1}: (Score: {scores[0][index]})\")\n",
        "  print(documents[index], \"\\n\\n\")"
      ]
    },
    {
      "cell_type": "code",
      "execution_count": 17,
      "metadata": {
        "id": "Ow0wZy6ETHIx"
      },
      "outputs": [
        {
          "name": "stderr",
          "output_type": "stream",
          "text": [
            "/home/hkawaguc/lecture-ai-engineering/venv/lib/python3.10/site-packages/transformers/generation/configuration_utils.py:631: UserWarning: `do_sample` is set to `False`. However, `temperature` is set to `0.6` -- this flag is only used in sample-based generation modes. You should set `do_sample=True` or unset `temperature`.\n",
            "  warnings.warn(\n",
            "/home/hkawaguc/lecture-ai-engineering/venv/lib/python3.10/site-packages/transformers/generation/configuration_utils.py:636: UserWarning: `do_sample` is set to `False`. However, `top_p` is set to `0.9` -- this flag is only used in sample-based generation modes. You should set `do_sample=True` or unset `top_p`.\n",
            "  warnings.warn(\n",
            "The attention mask and the pad token id were not set. As a consequence, you may observe unexpected behavior. Please pass your input's `attention_mask` to obtain reliable results.\n",
            "Setting `pad_token_id` to `eos_token_id`:128009 for open-end generation.\n"
          ]
        }
      ],
      "source": [
        " #回答に役立つ該当の発言はreference[1871]〜に含まれてます。\n",
        "references = \"\\n\".join([\"* \" + documents[i] for i in scores.argsort()[0][::-1][:topk]])\n",
        "messages = [\n",
        "    {\"role\": \"system\", \"content\": \"質問に回答してください。必ず「日本語で回答」すること。また、与えられる資料を参考にして回答すること。\"},\n",
        "    {\"role\": \"user\", \"content\": f\"[参考資料]\\n{references}\\n\\n[質問] LLMにおけるInference Time Scalingとは？\"},\n",
        "]\n",
        "input_ids = tokenizer.apply_chat_template(\n",
        "    messages,\n",
        "    add_generation_prompt=True,\n",
        "    return_tensors=\"pt\"\n",
        ").to(model.device)\n",
        "\n",
        "terminators = [\n",
        "    tokenizer.eos_token_id,\n",
        "    tokenizer.convert_tokens_to_ids(\"<|eot_id|>\")\n",
        "]\n",
        "\n",
        "outputs = model.generate(\n",
        "    input_ids,\n",
        "    # max_new_tokens=256,\n",
        "    eos_token_id=terminators,\n",
        "    do_sample=False,\n",
        "    # temperature=0.6, # If do_sample=True\n",
        "    # top_p=0.9,  # If do_sample=True\n",
        ")"
      ]
    },
    {
      "cell_type": "code",
      "execution_count": 18,
      "metadata": {
        "id": "z_4dkHGKTPr-"
      },
      "outputs": [
        {
          "name": "stdout",
          "output_type": "stream",
          "text": [
            "日本語で回答\n",
            "\n",
            "Inference Time Scalingは、Large Language Model（LLM）における推\n"
          ]
        }
      ],
      "source": [
        "response = outputs[0][input_ids.shape[-1]:]\n",
        "print(tokenizer.decode(response, skip_special_tokens=True))"
      ]
    },
    {
      "cell_type": "markdown",
      "metadata": {
        "id": "Bn7tih0RTTzr"
      },
      "source": [
        "## 結果 (初期RAG実装)\n",
        "\n",
        "講義内容のドキュメントを追加したにもかかわらず、モデルの回答には依然として以下の問題が見られます：\n",
        "* 「高速に推論する」など、従来の一般的な推論最適化と「Inference Time Scaling」を混同した誤った解釈が継続\n",
        "* 講義内容を参照しているものの、概念の本質を正確に捉えられていない\n",
        "\n",
        "### 問題分析\n",
        "以下の要因が考えられます：\n",
        "1. **ドキュメント品質の問題**: 音声認識による文字起こしの精度不足\n",
        "2. **検索精度の課題**: 単純な文単位の分割では文脈が失われ、関連性の高いドキュメント片を適切に取得できていない可能性\n",
        "\n",
        "### 書き起こしテキストの品質改善\n",
        "\n",
        "日本語の音声認識（speech2text）モデルは精度に課題があることが知られています。以下に「LLMにおけるInference Time Scalingとは？」に関連する講義内容の書き起こしテキストを比較します："
      ]
    },
    {
      "cell_type": "markdown",
      "metadata": {
        "id": "q83QyfAIphk6"
      },
      "source": [
        "### 講義中の該当発言 (LLM講座Day4後半から抜粋)\n",
        "\n",
        "\n",
        "<修正前>\n",
        "---\n",
        "\n",
        "講義に戻ります。ちょっと練習の時間もあるのであと20分ぐらいで駆け足になりますけど、最後最近のスケールトレンドって話で**生のGENIACLM**の話をして終わろうと思いですねちょっとモチベーションから話すと、ちょっと頭で考えてみてほしいとか見れば一瞬で思うとんですけどバナナの色は何ですかって言われたときと、今日の講義聞いた上で、**ゲームソフトの問題は何だと思いますか**って聞かれたとき、多分あの考えることが違うと思うんですね。**羽の色なんですか**っていうと一瞬黄色ですねもしかしたら緑かもしれないけどぐらいですかね物によるかなみたいなおもちゃだったら違うかもみたいな、だんだんあの、考えていくといろいろ出てくるかもしれないすけど、少なくとも**スケール足の問題なんだと思いますか**って聞かれたときに、今日の話からするとスケール則っていうのはこういうものだからどうだろうこの辺が問題かなみたいな考えとやっぱ思考としては違うってことは何となく思うかなと思います。なんか人間的にはこの二つって全然違うしあの、答えるのに必要な考え方っていうのも違うように思えるわけです。**スケールって言ってる7Gのスケール**って言ってるのはこういった形で、あの簡単なものについては簡単に答えてもいいですし、そうじゃなくて、あの考えなきゃいけない問題に対しては、考える時間を、に計算式を使うというふうにしたときに、これいいことがあるのかっていうような話になってます。二つで、ちょっと順番が前後しますけどこれの仕組みは言語モデルでも効果的ですかっていう話と、これをどう実現できるかっていう、こういう二つの話が最近のトレンドとして出てきています。効果的ですかっていうのが、最近**大湾**と呼ばれる論文が論文じゃないか、モデルが**オペル**から出ましたプレビューとして出てますけどこの法案で注目されていますこれあの**論文にROMってかブログ**にあるとイエスって右側が訓練時の計算資源をスケールさせたときに、初めて何かロジックのベンチマークがあるんですけどこれをがどうなったかで何となくスケールしてると右側がテストTimeコンピュートっていうふうに書いてると思うんすけど、**水温時**に計算資源を増やしたときあるモデルを使うんだけど、簡単に答える方法と深く考えて答える方法みたいでだんだんコース計算式を増やしていったときに、性能がどう変わるかっていうのでこれもスケールしていってるということがわかると思います。こういった形で、要は考える時間をどうやら推論時に使うと計算資源を推論使うのはいいことがありそうだということがわかります。\n",
        "\n",
        "\n",
        "<修正後>\n",
        "---\n",
        "\n",
        "\n",
        "講義に戻ります。ちょっと演習の時間もあるのであと20分ぐらいで駆け足になりますけど、最後最近のスケールトレンドってことで**「推論時のスケーリング」**についての話をして終わろうと思います。モチベーションから話すと、ちょっと頭で考えてみてもらえれば一瞬でわかると思うとんですけど、「バナナの色は何ですかって言われたとき」と、今日の講義聞いた上で、**「スケール則の問題は何だと思いますか」**って聞かれたとき、多分あの考えることが違うと思うんですね。\n",
        "**「バナナの色なんですか」**っていうと黄色ですね。もしかしたら緑かもしれないけど、物によるかなみたいな、おもちゃだったら違うかもみたいな、だんだんあの、考えていくといろいろ出てくるかもしれないすけど、少なくとも**「スケール則の問題なんだと思いますか」**って聞かれたときに、今日の話からするとスケール則っていうのはこういうものだから「どうだろう」「この辺が問題かな」みたいな考えとはやっぱ思考としては違うってことは何となく思うかなと思います。\n",
        "なんか人間的にはこの二つって全然違うしあの、答えるのに必要な考え方っていうのも違うように思えるわけです。**推論時のスケールって言ってるのは**こういった形で、あの簡単なものについては簡単に答えてもいいですし、そうじゃなくて、深く考えなきゃいけない問題に対しては、考える時間に計算資源を使うというふうにしたときに、これいいことがあるのかっていうような話になってます。\n",
        "これの仕組みは言語モデルでも効果的ですかっていう話と、これをどう実現できるかっていう、こういう二つの話が最近のトレンドとして出てきています。効果的ですかっていうのが、最近**o1**と呼ばれるモデルが**OpenAI**から出ました。プレビューとして出てますけどこのo1で注目されています。これあのo1の**論文ってかブログ**にある図で、左側が訓練時の計算資源をスケールさせたときに、AIMEというロジックのベンチマークがあるんですけど、accuracyがどうなったかというと、何となくスケールしてる。右側がtest-time computeっていうふうに書いてると思うんすけど、**推論時**に計算資源を増やしたときあるモデルを使うんだけど、簡単に答える方法と深く考えて答える方法みたいでだんだん計算資源を増やしていったときに、性能がどう変わるかっていうので、これもスケールしていってるということがわかると思います。\n",
        "こういった形で、要は考える時間をどうやら推論時に使うと、つまり計算資源を推論時に使うのはいいことがありそうだということがわかります。\n",
        "\n",
        "\n",
        "\n",
        "\n"
      ]
    },
    {
      "cell_type": "markdown",
      "metadata": {
        "id": "qCrp81WzyhYc"
      },
      "source": [
        "---\n",
        "### 文字起こしの誤り\n",
        "\n",
        "上記の比較からわかるように、音声認識による書き起こしには重大な誤りが多数含まれています：\n",
        "* 「スケール則の問題」→「ゲームソフトの問題」\n",
        "* 「o1」→「大湾」\n",
        "といった明らかに文脈に合わない単語変換が発生しています。\n",
        "\n",
        "`LLM2024_day4_raw.txt`の中には、このような誤変換が多数見られます。これらの誤りはRAG性能に直接影響し、モデルの回答精度を低下させる要因となります。\n",
        "\n",
        "したがって、**ドキュメント品質の改善**を行い、RAG性能の向上を図ります。\n",
        "\n",
        "## 講義内容をソースとして活用：改善版RAG実装\n",
        "\n",
        "* **ドキュメント処理**: \n",
        "  - speech2textによる書き起こしテキストを人手で丁寧に修正\n",
        "  - 専門用語（Inference Time Scaling、GPT-o1など）の正確な表記を確保\n",
        "  - 文脈の流れを維持しつつ、文法的に正確な日本語に修正\n",
        "\n",
        "* **検索手法**: \n",
        "  - 引き続き「。」（句点）で区切られた文単位でテキストを分割\n",
        "  - 文単位の検索により、モデルの入力トークン制限内で関連情報を最大化\n",
        "\n",
        "この改善により、モデルが正確な情報に基づいて「Inference Time Scaling」の概念を理解し、適切な回答を生成することが期待されます。"
      ]
    },
    {
      "cell_type": "code",
      "execution_count": 19,
      "metadata": {
        "id": "WNjIC4RnzkNW"
      },
      "outputs": [],
      "source": [
        "# with open(\"/content/lecture-ai-engineering/day3/data/LLM2024_day4.txt\", \"r\") as f:\n",
        "with open(\"./data/LLM2024_day4.txt\", \"r\") as f:\n",
        "  raw_writedown = f.read()"
      ]
    },
    {
      "cell_type": "code",
      "execution_count": 20,
      "metadata": {
        "id": "f53OojeTzkNW"
      },
      "outputs": [
        {
          "name": "stdout",
          "output_type": "stream",
          "text": [
            "ドキュメントサイズ:  350\n",
            "ドキュメントの例: \n",
            " それからBest of Nとはちょっと違う方法として、N個を生成した後に、それらを集約するという意味では、Day2でやったSelf-Consistencyをこの枠組みの一つとして説明されます\n"
          ]
        }
      ],
      "source": [
        "# ドキュメントを用意する。\n",
        "documents = [text.strip() for text in raw_writedown.split(\"。\")]\n",
        "print(\"ドキュメントサイズ: \", len(documents))\n",
        "print(\"ドキュメントの例: \\n\", documents[310])"
      ]
    },
    {
      "cell_type": "code",
      "execution_count": 21,
      "metadata": {
        "id": "mlduigQ3OfoN"
      },
      "outputs": [
        {
          "name": "stdout",
          "output_type": "stream",
          "text": [
            "[[61.82585906982422, 66.464111328125, 60.238372802734375, 51.8336181640625, 54.910743713378906, 51.56049728393555, 58.399749755859375, 60.8060188293457, 55.072021484375, 59.28536605834961, 58.477176666259766, 62.8603515625, 58.223716735839844, 59.10655212402344, 55.343997955322266, 57.358741760253906, 59.76057815551758, 51.4969482421875, 60.62434387207031, 62.52424240112305, 57.502044677734375, 58.56464385986328, 59.720672607421875, 59.440338134765625, 63.487911224365234, 61.78033447265625, 59.621219635009766, 62.45944595336914, 53.73783874511719, 61.90663528442383, 55.26152801513672, 56.991302490234375, 62.4527587890625, 56.236732482910156, 56.53038024902344, 56.40116500854492, 58.69483947753906, 51.75263977050781, 56.22756576538086, 56.70088577270508, 58.3699836730957, 55.4443244934082, 59.27921676635742, 59.53654479980469, 57.69504928588867, 54.768253326416016, 58.027828216552734, 57.402305603027344, 56.450313568115234, 52.436767578125, 61.598060607910156, 62.70304489135742, 57.0017204284668, 59.716796875, 59.494285583496094, 56.5413818359375, 56.92401123046875, 57.18376541137695, 58.185829162597656, 58.0723762512207, 57.951045989990234, 57.5869255065918, 59.27507781982422, 55.395816802978516, 59.9177360534668, 54.54383087158203, 53.82329177856445, 57.4045524597168, 62.658172607421875, 56.26445388793945, 50.5767936706543, 60.73279571533203, 63.178218841552734, 54.54633331298828, 60.4080810546875, 62.06509017944336, 64.03907012939453, 58.50667953491211, 56.749961853027344, 60.13044738769531, 60.04791259765625, 65.0151138305664, 66.20880126953125, 60.688602447509766, 60.02229309082031, 56.82237243652344, 61.338077545166016, 59.94121551513672, 61.124794006347656, 55.300010681152344, 62.152565002441406, 63.14201354980469, 59.72821807861328, 57.21214294433594, 56.25984573364258, 60.36616516113281, 57.487823486328125, 57.26997756958008, 58.516578674316406, 62.26039505004883, 58.371131896972656, 59.34797668457031, 53.60382843017578, 59.006534576416016, 52.598453521728516, 55.601375579833984, 61.40754699707031, 56.939090728759766, 54.40713882446289, 61.94243621826172, 55.81561279296875, 52.55497741699219, 61.4974365234375, 59.53314208984375, 59.60785675048828, 59.1135139465332, 57.189476013183594, 59.212154388427734, 61.62497329711914, 53.668392181396484, 54.28521728515625, 59.06541442871094, 61.04003143310547, 57.18604278564453, 58.598392486572266, 59.66969680786133, 61.45720672607422, 50.2408561706543, 52.52015686035156, 60.798667907714844, 59.19783020019531, 50.2408561706543, 51.404537200927734, 58.32014083862305, 58.71723175048828, 55.10465621948242, 55.521602630615234, 53.51331329345703, 58.32130813598633, 53.98491668701172, 57.045928955078125, 60.909019470214844, 60.34698486328125, 52.5777473449707, 55.292869567871094, 52.88690185546875, 61.41110610961914, 54.590328216552734, 60.885345458984375, 63.51726150512695, 60.72171401977539, 57.039634704589844, 58.82814025878906, 55.425453186035156, 55.18344497680664, 60.46461486816406, 63.97749710083008, 48.75657653808594, 52.58842849731445, 54.216758728027344, 55.07792282104492, 57.76837921142578, 58.649845123291016, 57.047271728515625, 52.21289825439453, 60.971649169921875, 52.46536636352539, 56.723140716552734, 59.380245208740234, 56.869781494140625, 55.26103973388672, 58.70608139038086, 58.052616119384766, 53.55759811401367, 52.73019027709961, 58.84794616699219, 58.91255187988281, 55.090267181396484, 56.79583740234375, 54.559112548828125, 58.0836181640625, 53.230560302734375, 56.83342361450195, 57.26057815551758, 57.21379470825195, 58.24520492553711, 56.68112564086914, 62.58298110961914, 57.186580657958984, 60.025535583496094, 60.72783660888672, 60.72773361206055, 60.26957702636719, 58.835365295410156, 56.89881896972656, 59.55919647216797, 64.62582397460938, 64.72675323486328, 61.05809020996094, 55.567813873291016, 62.33060836791992, 56.69196701049805, 57.03317642211914, 64.38735961914062, 54.655277252197266, 62.13459777832031, 59.66154479980469, 57.032108306884766, 57.6415901184082, 60.35544967651367, 59.752410888671875, 55.830867767333984, 60.06315994262695, 51.4702262878418, 58.22128677368164, 58.97124481201172, 53.80595779418945, 57.69243240356445, 58.022666931152344, 56.067665100097656, 58.879661560058594, 55.528141021728516, 58.96354293823242, 57.67741394042969, 58.356266021728516, 53.343467712402344, 54.1365966796875, 57.747703552246094, 56.99244689941406, 58.215858459472656, 56.84135055541992, 56.6699104309082, 56.968135833740234, 63.242156982421875, 52.398277282714844, 55.76919174194336, 59.117008209228516, 57.761478424072266, 52.15668487548828, 60.91041564941406, 58.458473205566406, 60.207950592041016, 59.19503402709961, 55.5196533203125, 63.6607666015625, 61.684776306152344, 65.2903823852539, 56.93706130981445, 60.184322357177734, 53.252315521240234, 62.6142692565918, 59.180511474609375, 63.691795349121094, 60.90971374511719, 57.666194915771484, 60.023616790771484, 57.25189971923828, 57.72663879394531, 55.75611114501953, 58.57108688354492, 55.4520378112793, 57.76964569091797, 59.787010192871094, 59.30459976196289, 53.77753829956055, 59.05778884887695, 59.32801818847656, 65.19074249267578, 59.66936492919922, 61.350311279296875, 53.506309509277344, 64.77035522460938, 55.31248474121094, 48.971946716308594, 56.1271858215332, 53.857845306396484, 63.7946891784668, 58.53778076171875, 58.327476501464844, 53.3409423828125, 64.68267822265625, 66.58789825439453, 63.13128662109375, 62.02245330810547, 56.958866119384766, 59.115089416503906, 56.08747100830078, 65.24853515625, 55.7797737121582, 58.78192138671875, 54.83137893676758, 54.26920700073242, 51.08738708496094, 61.75836944580078, 53.282676696777344, 59.691558837890625, 59.45398712158203, 56.833248138427734, 59.552459716796875, 54.36661148071289, 49.57453155517578, 58.468448638916016, 52.606536865234375, 56.50841522216797, 55.156314849853516, 63.68402862548828, 56.07689666748047, 58.67124938964844, 58.012664794921875, 55.93987274169922, 55.94358444213867, 56.81953430175781, 56.77763748168945, 56.58811950683594, 58.41081237792969, 53.49177169799805, 56.35896301269531, 58.168148040771484, 54.3162841796875, 57.036865234375, 55.78720474243164, 58.80127716064453, 59.090721130371094, 59.228336334228516, 55.972816467285156, 58.381248474121094, 53.33503341674805, 53.9722785949707, 59.13871383666992, 54.19453430175781, 56.725765228271484, 54.176700592041016, 53.762786865234375, 56.58958053588867, 54.54042053222656, 57.886688232421875, 54.97637939453125, 57.51333236694336, 56.35453414916992, 55.3536491394043, 57.479347229003906, 57.39681625366211, 54.425846099853516, 54.13145446777344, 53.86017990112305, 64.79509735107422, 58.544647216796875, 67.38105010986328, 55.742897033691406, 50.884700775146484]]\n"
          ]
        }
      ],
      "source": [
        "# Retrievalの実行\n",
        "question = \"LLMにおけるInference Time Scalingとは？\"\n",
        "\n",
        "query_embeddings = emb_model.encode([question], prompt_name=\"query\")\n",
        "document_embeddings = emb_model.encode(documents)\n",
        "\n",
        "# 各ドキュメントの類似度スコア\n",
        "scores = (query_embeddings @ document_embeddings.T) * 100\n",
        "print(scores.tolist())"
      ]
    },
    {
      "cell_type": "code",
      "execution_count": 22,
      "metadata": {
        "id": "FNsGUsnlOoMm"
      },
      "outputs": [
        {
          "name": "stdout",
          "output_type": "stream",
          "text": [
            "取得したドキュメント1: (Score: 67.38105010986328)\n",
            "最後に補足して僕のパート終わろうと思いますけど、同じ計算資源のときにパラメータ増やすのよりも推論資源を増やすのが有効なのかっていうのが問いとしてあると思いますけど、o1の場合だと、訓練時のスケールは同じままって推論時のスケールを増やしたら、より賢くなりましたって話でしたけど、どっちにするのがいいのかっていう意味で言うと、GoogleDeepMindが8月に論文としてまして、Scaling LLM Test-Time Comupte Optimally can be more Effective than Scaling More Paremetersっていうことで、良いらしいというふうに言われてます \n",
            "\n",
            "\n",
            "取得したドキュメント2: (Score: 66.58789825439453)\n",
            "右側がtest-time computeっていうふうに書いてると思うんすけど、推論時に計算資源を増やしたときあるモデルを使うんだけど、簡単に答える方法と深く考えて答える方法みたいでだんだん計算資源を増やしていったときに、性能がどう変わるかっていうので、これもスケールしていってるということがわかると思います \n",
            "\n",
            "\n",
            "取得したドキュメント3: (Score: 66.464111328125)\n",
            "あのスケールするっていうところではタイトルの通りなんですけど、ちょっとこれスケーリングPretraining回ってなってるんですけれども、ちょっと最近はですね、このPretrainingだけではなくて、推論をスケールさせるというような話も出てきてましてせっかくなのでその最近の話題ということです推論時のスケーリングことで、ちょっとタイトル詐欺が入ってるんですけどPretrainingだけじゃない、スケーリングも扱うということで、ちょっと若干あのタイトル詐欺なんですけども、あの最近の話題ということで推論時のスケジュールについても話していきたいなと思っています \n",
            "\n",
            "\n",
            "取得したドキュメント4: (Score: 66.20880126953125)\n",
            "Trasnformerの場合はスケール則が、パラメータ数が横軸になってますけどこういうふうになると、LSTMの場合には1層2層4層みたいにそれぞれスケール則を解くとこんなふうになりますよということで、Trasnformer以外のスケール則っていうのもあの検証をされている \n",
            "\n",
            "\n",
            "取得したドキュメント5: (Score: 65.2903823852539)\n",
            "気にしながらっていうのの実例を出した方がわかりやすいと思うので、実際にこれ開発者じゃないので、あの結果を見て推論してるだけなんで嘘ついてるかもしれないですけど例えばLlama3の論文を持ってくると8Billon,70Billon,405Billonで層の数、モデルDimension、埋め込みの数次元ですね、フィードフォワードの次元、アテンションの数っていうのを、こういうふうにしたよっていうふうに言われてます \n",
            "\n",
            "\n"
          ]
        }
      ],
      "source": [
        "topk = 5\n",
        "for i, index in enumerate(scores.argsort()[0][::-1][:topk]):\n",
        "  print(f\"取得したドキュメント{i+1}: (Score: {scores[0][index]})\")\n",
        "  print(documents[index], \"\\n\\n\")"
      ]
    },
    {
      "cell_type": "code",
      "execution_count": 23,
      "metadata": {
        "id": "MoOCvFW4ltcA"
      },
      "outputs": [
        {
          "name": "stderr",
          "output_type": "stream",
          "text": [
            "The attention mask and the pad token id were not set. As a consequence, you may observe unexpected behavior. Please pass your input's `attention_mask` to obtain reliable results.\n",
            "Setting `pad_token_id` to `eos_token_id`:128009 for open-end generation.\n"
          ]
        }
      ],
      "source": [
        " #回答に役立つ該当の発言はreference[1871]〜に含まれてます。\n",
        "references = \"\\n\".join([\"* \" + documents[i] for i in scores.argsort()[0][::-1][:topk]])\n",
        "messages = [\n",
        "    {\"role\": \"system\", \"content\": \"質問に回答してください。必ず「日本語で回答」すること。また、与えられる資料を参考にして回答すること。\"},\n",
        "    {\"role\": \"user\", \"content\": f\"[参考資料]\\n{references}\\n\\n[質問] LLMにおけるInference Time Scalingとは？\"},\n",
        "]\n",
        "input_ids = tokenizer.apply_chat_template(\n",
        "    messages,\n",
        "    add_generation_prompt=True,\n",
        "    return_tensors=\"pt\"\n",
        ").to(model.device)\n",
        "\n",
        "terminators = [\n",
        "    tokenizer.eos_token_id,\n",
        "    tokenizer.convert_tokens_to_ids(\"<|eot_id|>\")\n",
        "]\n",
        "\n",
        "outputs = model.generate(\n",
        "    input_ids,\n",
        "    # max_new_tokens=256,\n",
        "    eos_token_id=terminators,\n",
        "    do_sample=False,\n",
        "    # temperature=0.6, # If do_sample=True\n",
        "    # top_p=0.9,  # If do_sample=True\n",
        ")"
      ]
    },
    {
      "cell_type": "code",
      "execution_count": 24,
      "metadata": {
        "id": "2FbzMLfTtWxx"
      },
      "outputs": [
        {
          "name": "stdout",
          "output_type": "stream",
          "text": [
            "日本語で回答します。\n",
            "\n",
            "Inference Time Scaling（推論時間スケール）とは、\n"
          ]
        }
      ],
      "source": [
        "response = outputs[0][input_ids.shape[-1]:]\n",
        "print(tokenizer.decode(response, skip_special_tokens=True))"
      ]
    },
    {
      "cell_type": "markdown",
      "metadata": {
        "id": "vLe0IJPeH97d"
      },
      "source": [
        "## 結果 (修正テキストによるRAG)\n",
        "\n",
        "書き起こしテキストの品質改善により、モデルの回答に部分的な向上が見られました：\n",
        "\n",
        "### 改善点\n",
        "* 「推論時（Inference）に計算資源をスケーリングすることで、モデルがより賢くなり、性能が向上すること」という概念を正確に捉えるようになった\n",
        "\n",
        "### 問題点\n",
        "* 「Inference Time Scalingは、TransformerやLSTMなどのモデルにおいて、パラメータ数を増やすのではなく、推論時計算資源をスケーリングすることで、性能が向上すること...」という記述は講義内容と矛盾している\n",
        "\n",
        "### 問題分析\n",
        "\n",
        "モデルが誤った回答を生成する主要因として、**文脈の欠如**が考えられます：\n",
        "* 「。」で区切られた短い文単位での検索では、各文の発言背景や関連性が失われる\n",
        "* 単独の文から情報を抽出するため、講師の全体的な主張や議論の流れを把握できない\n",
        "* 結果として、正しい個別の文でも、その解釈に必要な背景情報が欠如し、誤った文脈で理解される\n",
        "\n",
        "\n",
        "---\n",
        "\n",
        "# 3. 文脈を考慮したチャンク化の導入\n",
        "\n",
        "検索結果の品質向上のため、以下の改善を実施します：\n",
        "\n",
        "* **前後文脈を含むチャンク化**:\n",
        "  - 検索でマッチした文だけでなく、その前後の複数文も含めてチャンクとして取得\n",
        "  - 具体的には、マッチした文を中心に前2文、後2文を含む計5文程度のチャンクを構成\n",
        "  - この「文脈ウィンドウ」により、発言の背景情報や議論の流れが保持される\n",
        "\n",
        "* **期待される効果**:\n",
        "  - 講師の主張とその根拠の関係性を正確に把握できる\n",
        "  - 概念の定義とその適用範囲を正しく理解できる\n",
        "\n",
        "この改善により、モデルが講義内容の本質をより正確に理解し、一貫性のある事実に基づいた回答を生成することが期待されます。"
      ]
    },
    {
      "cell_type": "code",
      "execution_count": 25,
      "metadata": {
        "id": "94uovDFrVOTJ"
      },
      "outputs": [
        {
          "name": "stderr",
          "output_type": "stream",
          "text": [
            "The attention mask and the pad token id were not set. As a consequence, you may observe unexpected behavior. Please pass your input's `attention_mask` to obtain reliable results.\n",
            "Setting `pad_token_id` to `eos_token_id`:128009 for open-end generation.\n"
          ]
        }
      ],
      "source": [
        "# 前後それぞれ2つずつの文章を一つのドキュメントに追加する。（要は5つの文章集合になる)\n",
        "references = \"\\n\".join([\"* \" + \"。\".join(documents[max(0, i-2): min(i+2, len(documents))]).strip() for i in scores.argsort()[0][::-1][:topk]])\n",
        "messages = [\n",
        "    {\"role\": \"system\", \"content\": \"質問に回答してください。必ず「日本語で回答」すること。また、与えられる資料を参考にして回答すること。\"},\n",
        "    {\"role\": \"user\", \"content\": f\"[参考資料]\\n{references}\\n\\n[質問] LLMにおけるInference Time Scalingとは？\"},\n",
        "]\n",
        "input_ids = tokenizer.apply_chat_template(\n",
        "    messages,\n",
        "    add_generation_prompt=True,\n",
        "    return_tensors=\"pt\"\n",
        ").to(model.device)\n",
        "\n",
        "terminators = [\n",
        "    tokenizer.eos_token_id,\n",
        "    tokenizer.convert_tokens_to_ids(\"<|eot_id|>\")\n",
        "]\n",
        "\n",
        "outputs = model.generate(\n",
        "    input_ids,\n",
        "    # max_new_tokens=256,\n",
        "    eos_token_id=terminators,\n",
        "    do_sample=False,\n",
        "    # temperature=0.6, # If do_sample=True\n",
        "    # top_p=0.9,  # If do_sample=True\n",
        ")"
      ]
    },
    {
      "cell_type": "code",
      "execution_count": 26,
      "metadata": {
        "id": "SAzYsxVWVdMS"
      },
      "outputs": [
        {
          "name": "stdout",
          "output_type": "stream",
          "text": [
            "日本語で回答します。\n",
            "\n",
            "LLM（Large Language Model）の推論時間スケーリング\n"
          ]
        }
      ],
      "source": [
        "response = outputs[0][input_ids.shape[-1]:]\n",
        "print(tokenizer.decode(response, skip_special_tokens=True))"
      ]
    },
    {
      "cell_type": "markdown",
      "metadata": {
        "id": "CD3R54G1WX8B"
      },
      "source": [
        "## 結果 (文脈付きチャンク化によるRAG)\n",
        "\n",
        "文脈を含むチャンク化により、モデルの回答の方向性に明確な改善が見られました：\n",
        "\n",
        "### 改善点\n",
        "* 「推論時の計算をスケールさせる」という概念を据えて回答\n",
        "* Inference Time Scalingの基本原理についての理解が向上\n",
        "\n",
        "### 残存する問題点\n",
        "* 質問と関連性の低い情報（ノイズ）が混入する\n",
        "\n",
        "### 問題分析\n",
        "\n",
        "文脈付きチャンク化によるアプローチで新たに発生した課題：\n",
        "\n",
        "1. **情報過多の問題**:\n",
        "   * ドキュメント量の増加により、モデルに提供される情報総量が大幅に増加\n",
        "   * 関連情報と非関連情報が混在し、ノイズと重要情報の区別が困難に\n",
        "\n",
        "2. **情報選択の複雑化**:\n",
        "   * モデルは単に回答を生成するだけでなく、提供された多様な情報源から関連性の高い情報を選別する作業も担うことになった\n",
        "   * この二重タスクにより回答生成の難易度が上昇\n",
        "\n",
        "\n",
        "---\n",
        "\n",
        "# 4. Rerankによる情報品質の向上\n",
        "\n",
        "検索精度をさらに向上させるため、二段階の検索プロセスを導入します：\n",
        "\n",
        "* **Rerank手法の導入**:\n",
        "  - 第一段階: 従来通り基本的な検索アルゴリズムでtop-k個のドキュメントチャンクを取得\n",
        "  - 第二段階: 取得したチャンクに対してLLMを活用した高度な関連性評価を実施\n",
        "  - LLMに「このドキュメントは質問『LLMにおけるInference Time Scalingとは？』に対して本当に関連性が高いか」を判断させる\n",
        "  - 関連性スコアに基づいてランク付けし、真に関連性の高いチャンクのみを選出\n",
        "\n",
        "* **期待される効果**:\n",
        "  - 質の高い情報に焦点を絞ることで、ノイズとなる情報を大幅に削減\n",
        "  - 文脈を保ちながらも、関連性の高い情報のみをモデルに提供\n",
        "  - モデルのタスクを「多量の情報から選別して回答」から「厳選された情報に基づいて回答」へと単純化\n",
        "\n",
        "この高度な情報フィルタリングにより、Inference Time Scalingに関する正確で一貫性のある回答生成が期待されます。"
      ]
    },
    {
      "cell_type": "code",
      "execution_count": 27,
      "metadata": {
        "id": "2HfzJ5EpXGtj"
      },
      "outputs": [
        {
          "name": "stderr",
          "output_type": "stream",
          "text": [
            "The attention mask and the pad token id were not set. As a consequence, you may observe unexpected behavior. Please pass your input's `attention_mask` to obtain reliable results.\n",
            "Setting `pad_token_id` to `eos_token_id`:128009 for open-end generation.\n",
            "The attention mask and the pad token id were not set. As a consequence, you may observe unexpected behavior. Please pass your input's `attention_mask` to obtain reliable results.\n",
            "Setting `pad_token_id` to `eos_token_id`:128009 for open-end generation.\n",
            "The attention mask and the pad token id were not set. As a consequence, you may observe unexpected behavior. Please pass your input's `attention_mask` to obtain reliable results.\n",
            "Setting `pad_token_id` to `eos_token_id`:128009 for open-end generation.\n"
          ]
        },
        {
          "name": "stdout",
          "output_type": "stream",
          "text": [
            "\n",
            "\n",
            "対象となるドキュメント:\n",
            " これでほぼちょうどですけど、最後に少しあの、前半では全体の訓練時のスケーリングをする話を基本的にしましたけど、最近ではこの推論時の計算量っていうのも注目するような研究が増えてきています。\n",
            "代表的なGPT-o1とかですごく注目されてるかなと思いますし、今までやった方法、学んだ方法も結構出てきたと思いますけど、Promptingを工夫するとか、Decodingを工夫するとかいうので、それにも発展的な方法がいろいろ出てきていますし、Meta Generationっていうような枠組みで、DecodingだけじゃなくてそのDecodeした結果を最後どう使うかみたいな含めて、Meta Generationというふうに呼んでますけど、Paralell SearchとかStep Level SearchとかRefinementと言われるような枠組みの研究も出てきていますというような話をしました。\n",
            "最後に補足して僕のパート終わろうと思いますけど、同じ計算資源のときにパラメータ増やすのよりも推論資源を増やすのが有効なのかっていうのが問いとしてあると思いますけど、o1の場合だと、訓練時のスケールは同じままって推論時のスケールを増やしたら、より賢くなりましたって話でしたけど、どっちにするのがいいのかっていう意味で言うと、GoogleDeepMindが8月に論文としてまして、Scaling LLM Test-Time Comupte Optimally can be more Effective than Scaling More Paremetersっていうことで、良いらしいというふうに言われてます。\n",
            "厳密に言うとこれなんかタスクによって違うということなので、良いとまで言っていいのかちょっと若干誇大広告な気が個人的にはしてますけど、そういったことを検証するような研究も出てきていますので興味ある人は見てもらえばと思います\n",
            "\n",
            "関連しているかどうか:  参考資料に直接関連していません。\n",
            "\n",
            "\n",
            "対象となるドキュメント:\n",
            " プレビューとして出てますけどこのo1で注目されています。\n",
            "これあのo1の論文ってかブログにある図で、左側が訓練時の計算資源をスケールさせたときに、AIMEというロジックのベンチマークがあるんですけど、accuracyがどうなったかというと、何となくスケールしてる。\n",
            "右側がtest-time computeっていうふうに書いてると思うんすけど、推論時に計算資源を増やしたときあるモデルを使うんだけど、簡単に答える方法と深く考えて答える方法みたいでだんだん計算資源を増やしていったときに、性能がどう変わるかっていうので、これもスケールしていってるということがわかると思います。\n",
            "こういった形で、要は考える時間をどうやら推論時に使うと、つまり計算資源を推論時に使うのはいいことがありそうだということがわかります\n",
            "\n",
            "関連しているかどうか:  no\n"
          ]
        },
        {
          "name": "stderr",
          "output_type": "stream",
          "text": [
            "The attention mask and the pad token id were not set. As a consequence, you may observe unexpected behavior. Please pass your input's `attention_mask` to obtain reliable results.\n",
            "Setting `pad_token_id` to `eos_token_id`:128009 for open-end generation.\n"
          ]
        },
        {
          "name": "stdout",
          "output_type": "stream",
          "text": [
            "\n",
            "\n",
            "対象となるドキュメント:\n",
            " 早速内容ですけど、目的はタイトルの通りですけど言語モデルスケール則について学ぶってことで、大規模言語モデルっていうふうに呼ばれてますけど、ちょっとスケール則の話とか初回も少ししましたけど、これだけ大きくなっている一つの理由になってますのでそのスケール則ってどういうものなのかとかそれがなぜ重要なのかっていうところ、説明できるようなってもらうというところと、スケール則ってどうやって求めるんでしたっけというところを説明実装できるようになるところについて中心的に話していければと思ってます。\n",
            "あのスケールするっていうところではタイトルの通りなんですけど、ちょっとこれスケーリングPretraining回ってなってるんですけれども、ちょっと最近はですね、このPretrainingだけではなくて、推論をスケールさせるというような話も出てきてましてせっかくなのでその最近の話題ということです推論時のスケーリングことで、ちょっとタイトル詐欺が入ってるんですけどPretrainingだけじゃない、スケーリングも扱うということで、ちょっと若干あのタイトル詐欺なんですけども、あの最近の話題ということで推論時のスケジュールについても話していきたいなと思っています。\n",
            "演習では2つ目のポイントに近いですけどスケール則を実際に求めるというところでそのコードを実装できるようになってもらうということを目的としています\n",
            "\n",
            "関連しているかどうか:  yes\n"
          ]
        },
        {
          "name": "stderr",
          "output_type": "stream",
          "text": [
            "The attention mask and the pad token id were not set. As a consequence, you may observe unexpected behavior. Please pass your input's `attention_mask` to obtain reliable results.\n",
            "Setting `pad_token_id` to `eos_token_id`:128009 for open-end generation.\n"
          ]
        },
        {
          "name": "stdout",
          "output_type": "stream",
          "text": [
            "\n",
            "\n",
            "対象となるドキュメント:\n",
            " それをスケールアップさせたのが先ほどのOpenAIの研究だというふうに説明できるかなと思います。\n",
            "それから元のOpenAIの論文に戻りますと、今言ったようなLSTMの比較みたいなLSTMにおけるスケール則みたいなことも、この論文でも検証されていまして、左側がモデル構造が違うんですね。\n",
            "Trasnformerの場合はスケール則が、パラメータ数が横軸になってますけどこういうふうになると、LSTMの場合には1層2層4層みたいにそれぞれスケール則を解くとこんなふうになりますよということで、Trasnformer以外のスケール則っていうのもあの検証をされている。\n",
            "深さについても検証してまして、これも元のモデルが何だったかちょっと忘れちゃったけど、確かLSTMだったような気がしますけど、層を変えたときにどういうふうな変化するかっていうのをこういった形でプロットするようなことがされてます\n",
            "\n",
            "関連しているかどうか:  no\n",
            "\n",
            "\n",
            "対象となるドキュメント:\n",
            " こういったものを変えて実験してみたっていうのが最初の最初じゃないOpenAIのScaling Lawで話されていました。\n",
            "基本的にはこの辺見るとなんかあんまり性能に影響ないっていうふうにこの論文では言ってますけど、この辺を気にしながらモデルスケールすることが多いです。\n",
            "気にしながらっていうのの実例を出した方がわかりやすいと思うので、実際にこれ開発者じゃないので、あの結果を見て推論してるだけなんで嘘ついてるかもしれないですけど例えばLlama3の論文を持ってくると8Billon,70Billon,405Billonで層の数、モデルDimension、埋め込みの数次元ですね、フィードフォワードの次元、アテンションの数っていうのを、こういうふうにしたよっていうふうに言われてます。\n",
            "これさっき言ったアスペクト比、縦横比がこのモデルdimentionをLayerで割ったものなんで、これそれぞれ見ると128,102.4,130ってことでこれ大体100から130ぐらい、なんかおおむね同じような値になっていることがわかると思います\n",
            "\n",
            "関連しているかどうか:  yes\n"
          ]
        }
      ],
      "source": [
        " #回答に役立つ該当の発言はreference[1871]〜に含まれてます。\n",
        "references = []\n",
        "for ref in [\"。\".join(documents[max(0, i-2): min(i+2, len(documents))]).strip() for i in scores.argsort()[0][::-1][:topk]]:\n",
        "  messages = [\n",
        "      {\"role\": \"system\", \"content\": \"与えられた参考資料が質問に直接関連しているか？'yes''no'で答えること。ただし、余計なテキストを生成しないこと。\"},\n",
        "      {\"role\": \"user\", \"content\": f\"[参考資料]\\n{ref}\\n\\n[質問] LLMにおけるInference Time Scalingとは？\"},\n",
        "  ]\n",
        "  input_ids = tokenizer.apply_chat_template(\n",
        "      messages,\n",
        "      add_generation_prompt=True,\n",
        "      return_tensors=\"pt\"\n",
        "  ).to(model.device)\n",
        "\n",
        "  terminators = [\n",
        "      tokenizer.eos_token_id,\n",
        "      tokenizer.convert_tokens_to_ids(\"<|eot_id|>\")\n",
        "  ]\n",
        "\n",
        "  outputs = model.generate(\n",
        "      input_ids,\n",
        "      # max_new_tokens=256,\n",
        "      eos_token_id=terminators,\n",
        "      do_sample=False,\n",
        "      # temperature=0.6, # If do_sample=True\n",
        "      # top_p=0.9,  # If do_sample=True\n",
        "  )\n",
        "\n",
        "  response = outputs[0][input_ids.shape[-1]:]\n",
        "  response = tokenizer.decode(response, skip_special_tokens=True)\n",
        "  print(\"\\n\\n対象となるドキュメント:\\n\", ref.replace(\"。\", \"。\\n\"))\n",
        "  print(\"\\n関連しているかどうか: \", response)\n",
        "\n",
        "  if \"yes\" in response.lower():\n",
        "    references.append(ref)"
      ]
    },
    {
      "cell_type": "code",
      "execution_count": 28,
      "metadata": {
        "id": "cLietDaD5I3h"
      },
      "outputs": [
        {
          "name": "stdout",
          "output_type": "stream",
          "text": [
            "2\n"
          ]
        }
      ],
      "source": [
        "print(len(references))"
      ]
    },
    {
      "cell_type": "markdown",
      "metadata": {
        "id": "Fs74h4ADXj99"
      },
      "source": [
        "上記より、上位3件のみが関連しているとわかったので、これらだけをモデルに渡すこととする。"
      ]
    },
    {
      "cell_type": "code",
      "execution_count": 29,
      "metadata": {
        "id": "Fu9wBykZXxja"
      },
      "outputs": [
        {
          "name": "stderr",
          "output_type": "stream",
          "text": [
            "The attention mask and the pad token id were not set. As a consequence, you may observe unexpected behavior. Please pass your input's `attention_mask` to obtain reliable results.\n",
            "Setting `pad_token_id` to `eos_token_id`:128009 for open-end generation.\n"
          ]
        }
      ],
      "source": [
        " #回答に役立つ該当の発言はreference[1871]〜に含まれてます。\n",
        "messages = [\n",
        "    {\"role\": \"system\", \"content\": \"質問に回答してください。必ず「日本語で回答」すること。また、与えられる資料を参考にして回答すること。\"},\n",
        "    {\"role\": \"user\", \"content\": f\"[参考資料]\\n{references}\\n\\n[質問] LLMにおけるInference Time Scalingとは？\"},\n",
        "]\n",
        "input_ids = tokenizer.apply_chat_template(\n",
        "    messages,\n",
        "    add_generation_prompt=True,\n",
        "    return_tensors=\"pt\"\n",
        ").to(model.device)\n",
        "\n",
        "terminators = [\n",
        "    tokenizer.eos_token_id,\n",
        "    tokenizer.convert_tokens_to_ids(\"<|eot_id|>\")\n",
        "]\n",
        "\n",
        "outputs = model.generate(\n",
        "    input_ids,\n",
        "    # max_new_tokens=256,\n",
        "    eos_token_id=terminators,\n",
        "    do_sample=False,\n",
        "    # temperature=0.6, # If do_sample=True\n",
        "    # top_p=0.9,  # If do_sample=True\n",
        ")"
      ]
    },
    {
      "cell_type": "code",
      "execution_count": 30,
      "metadata": {
        "id": "z5kHntvSXxjb"
      },
      "outputs": [
        {
          "name": "stdout",
          "output_type": "stream",
          "text": [
            "日本語で回答します。\n",
            "\n",
            "Inference Time Scalingは、Large Language Model（LLM）における\n"
          ]
        }
      ],
      "source": [
        "response = outputs[0][input_ids.shape[-1]:]\n",
        "print(tokenizer.decode(response, skip_special_tokens=True))"
      ]
    },
    {
      "cell_type": "markdown",
      "metadata": {
        "id": "elqD2gJt5RCo"
      },
      "source": [
        "## 結果 (Rerank導入後)\n",
        "\n",
        "Rerankの導入により、回答品質に改善が見られました：\n",
        "\n",
        "### 達成された成果\n",
        "* Inference Time Scalingに関する正確な情報を含んだ回答の生成\n",
        "* 無関係な情報やノイズの排除\n",
        "* 講義内容を反映した説明の実現 🎉\n",
        "\n",
        "この結果から、RAGパイプラインにおける情報の質と関連性の重要性であり、検索で取得した情報を単に増やすだけでなく、その情報の関連性を精査する方法を学ぶことができました。\n",
        "\n",
        "---\n",
        "\n",
        "\n",
        "# 5. さらなる改善案: 意味的チャンク化\n",
        "\n",
        "文単位での分割と前後文脈の追加という現在のアプローチをさらに発展させる手法として、**意味的なチャンク化**が考えられます：\n",
        "\n",
        "* **意味的チャンク（段落）単位での分割**:\n",
        "  - 単純な文の区切りではなく、意味的なまとまり（トピック、議論、例示など）に基づいてテキストを分割\n",
        "  - 人間の主観に基づく意味的な段落分けを活用\n",
        "  - 各チャンクが「一つの完結した考え」を表現するようにする\n",
        "\n",
        "* **期待される効果**:\n",
        "  - より自然な文脈理解が可能に（人間の思考や会話の流れに近い）\n",
        "  - トピックの開始から結論までの流れを維持できる\n",
        "  - 概念間の関係性や比較が同一チャンク内に含まれ、より深い理解につなげる\n",
        "\n",
        "* **検証方法**:\n",
        "  - 人間が主観的に意味でグループ化したチャンクセットを用意\n",
        "  - 同じRerank手法を適用し、文単位チャンクとの性能差を比較\n",
        "  - 回答の正確性、一貫性、網羅性を評価指標として使用\n",
        "\n",
        "この意味的チャンク化手法は、特に講義のような構造化された発話においては、より自然で効果的な情報検索と理解を可能にすると予想されます。"
      ]
    },
    {
      "cell_type": "code",
      "execution_count": 31,
      "metadata": {
        "id": "4DNOyPNXAtl3"
      },
      "outputs": [
        {
          "name": "stdout",
          "output_type": "stream",
          "text": [
            "ドキュメントサイズ:  45\n",
            "ドキュメントの例: \n",
            " 具体的な求め方についても話します。 さっきからチラチラ言ってた通りなんすけど基本的にこれどう図るかっていうと、基本的にはいくつかの条件で実験してフィッティングするって言ってんのは、すごい単純に言ってしまうとそうなります。左側GPT4の論文から取ってきた図で説明したもんですけど、グレーのやつを例えば実験してみて、これぐらいのロスになるんだなっていうので、フィッティングするとこういうカーブになります。 ちなみにこれ、なんでこれ直線にならないんだっていうのをすぐ説明しなかったですがこれ縦軸が実は普通のロスと違ってBits-per-wordっていうのになってて、多分2乗スケールのロスになってるからだと思います。 右側も同じですね。この各点について何かいろんな設定で実験してやって、それを結果を見るということをしてますけどよくよく考えるとスケールさせるときにモデルサイズどうすればいいんでしたっけとか、何をどういじるとモデルサイズが大きくなるんでしたっけ、どういうふうに言えばいいんでしたっけとかですね。 あのモデルサイズ変えたときにハイパーパラメータってどうすんでしたっけそういった細かい問題が出てくる。最初の方ですけどモデルサイズどう変化させるかっていうので、前回やった、こういう図があると思いますけどモデルサイズ変えようと思ったら別にパラメータ、層の数を増やしても、いいわけですし、この埋め込みの次元各tokenの次元を増やしてもいいわけですし、各随所に出てくるこのフィードフォワードネットワークっていうのの中間層の次元を上げてもいいですしヘッドを増やしてもそういうのあのパラメータ自体は上がるということで、これどれをどのぐらいやるんですかっていうのが細かく考えると重要になってきます。 この辺は元の論文でも一応議論されてまして、これ三つほど出してるんすけど例えば真ん中のがアスペクト比っていう、モデルのエンベディングのサイズですね。dモデルっていうものを層数で割ったもの、アスペクト比という縦横比みたいなもので幅と深さの比率をアスペクト比っていうふうにこの論文では呼んでいますけど。こういったものを変えて実験してみたっていうのが最初の最初じゃないOpenAIのScaling Lawで話されていました。基本的にはこの辺見るとなんかあんまり性能に影響ないっていうふうにこの論文では言ってますけど、この辺を気にしながらモデルスケールすることが多いです。 気にしながらっていうのの実例を出した方がわかりやすいと思うので、実際にこれ開発者じゃないので、あの結果を見て推論してるだけなんで嘘ついてるかもしれないですけど例えばLlama3の論文を持ってくると8Billon,70Billon,405Billonで層の数、モデルDimension、埋め込みの数次元ですね、フィードフォワードの次元、アテンションの数っていうのを、こういうふうにしたよっていうふうに言われてます。 これさっき言ったアスペクト比、縦横比がこのモデルdimentionをLayerで割ったものなんで、これそれぞれ見ると128,102.4,130ってことでこれ大体100から130ぐらい、なんかおおむね同じような値になっていることがわかると思います。 それからモデルとフィードフォワードの次元数ですね、モデル次元数に対しフィードフォワードの次元数は3.5倍になっているということがわかります。これ約3.5かな。ちょっと自信ないですちょっとちゃんと計算したとかいった計算したら、ちょっと違ってたら教えてほしいんすけど大体3.5倍ぐらいあったとアテンションのヘッドはこのFFNの次元数と同様にスケールしたモデルの次元と同様にスケールしているということがわかる。 こういった感じで幅とかを大体同じような係数で、なるべく伸ばしてくと、ただこれ、指定したパラメータ数にしようと思ったときに、当然どっかは完全には固定できないので、若干変わりますけど大体同じような比率でスケールさせているというようなことがわかると思います。\n"
          ]
        }
      ],
      "source": [
        "# 本来は段落をそのままdocumentsに入れずに一定のサイズに分割した方が良いでしょうが、簡単のために段落をそのまま入れてしまいます。\n",
        "documents = [text.replace(\"\\n\", \" \").strip() for text in raw_writedown.split(\"\\n\\n\")]\n",
        "print(\"ドキュメントサイズ: \", len(documents))\n",
        "print(\"ドキュメントの例: \\n\", documents[30])"
      ]
    },
    {
      "cell_type": "code",
      "execution_count": 32,
      "metadata": {
        "id": "FF6wc10RAxuc"
      },
      "outputs": [
        {
          "name": "stdout",
          "output_type": "stream",
          "text": [
            "[[64.81297302246094, 61.828041076660156, 62.283695220947266, 62.75825500488281, 63.07631301879883, 61.721195220947266, 59.56360626220703, 59.90000915527344, 61.39103317260742, 62.32353591918945, 61.01763153076172, 65.69013977050781, 65.84390258789062, 60.71730422973633, 62.97541809082031, 62.907958984375, 61.83106994628906, 63.14450454711914, 60.531471252441406, 59.37464141845703, 59.92155075073242, 63.58808135986328, 59.79884719848633, 58.89973449707031, 62.60377883911133, 63.644073486328125, 61.173641204833984, 61.82255554199219, 60.26353073120117, 61.51757049560547, 64.97529602050781, 63.299739837646484, 63.340084075927734, 63.4177131652832, 65.70550537109375, 64.95528411865234, 58.45425796508789, 60.141563415527344, 60.078285217285156, 58.6156005859375, 57.92317199707031, 59.45302200317383, 58.901954650878906, 63.06174850463867, 68.84207916259766]]\n"
          ]
        }
      ],
      "source": [
        "question = \"LLMにおけるInference Time Scalingとは？\"\n",
        "\n",
        "query_embeddings = emb_model.encode([question], prompt_name=\"query\")\n",
        "document_embeddings = emb_model.encode(documents)\n",
        "\n",
        "scores = (query_embeddings @ document_embeddings.T) * 100\n",
        "print(scores.tolist())"
      ]
    },
    {
      "cell_type": "code",
      "execution_count": 33,
      "metadata": {
        "id": "H-FKkAcTA-Sx"
      },
      "outputs": [
        {
          "name": "stdout",
          "output_type": "stream",
          "text": [
            "取得したドキュメント1: (Score: 68.84207916259766)\n",
            "最後に補足して僕のパート終わろうと思いますけど、同じ計算資源のときにパラメータ増やすのよりも推論資源を増やすのが有効なのかっていうのが問いとしてあると思いますけど、o1の場合だと、訓練時のスケールは同じままって推論時のスケールを増やしたら、より賢くなりましたって話でしたけど、どっちにするのがいいのかっていう意味で言うと、GoogleDeepMindが8月に論文としてまして、Scaling LLM Test-Time Comupte Optimally can be more Effective than Scaling More Paremetersっていうことで、良いらしいというふうに言われてます。厳密に言うとこれなんかタスクによって違うということなので、良いとまで言っていいのかちょっと若干誇大広告な気が個人的にはしてますけど、そういったことを検証するような研究も出てきていますので興味ある人は見てもらえばと思います。 \n",
            "\n",
            "\n",
            "取得したドキュメント2: (Score: 65.84390258789062)\n",
            "それから元のOpenAIの論文に戻りますと、今言ったようなLSTMの比較みたいなLSTMにおけるスケール則みたいなことも、この論文でも検証されていまして、左側がモデル構造が違うんですね。 Trasnformerの場合はスケール則が、パラメータ数が横軸になってますけどこういうふうになると、LSTMの場合には1層2層4層みたいにそれぞれスケール則を解くとこんなふうになりますよということで、Trasnformer以外のスケール則っていうのもあの検証をされている。深さについても検証してまして、これも元のモデルが何だったかちょっと忘れちゃったけど、確かLSTMだったような気がしますけど、層を変えたときにどういうふうな変化するかっていうのをこういった形でプロットするようなことがされてます。 ポイントはTrasnformer以外でも別にあのスケールするっていうのは成立概念だということです。なんでこんなTrasnformerだけ注目されてるのかってのは後で話します。 \n",
            "\n",
            "\n"
          ]
        }
      ],
      "source": [
        "# 簡単のためにtop2でやります。結果を見てもらえれば問題なく関連する項目のみ取得できているのが分かるかと思います。\n",
        "topk = 2\n",
        "for i, index in enumerate(scores.argsort()[0][::-1][:topk]):\n",
        "  print(f\"取得したドキュメント{i+1}: (Score: {scores[0][index]})\")\n",
        "  print(documents[index], \"\\n\\n\")"
      ]
    },
    {
      "cell_type": "code",
      "execution_count": 34,
      "metadata": {
        "id": "KtC-wsj4BGwn"
      },
      "outputs": [
        {
          "name": "stderr",
          "output_type": "stream",
          "text": [
            "The attention mask and the pad token id were not set. As a consequence, you may observe unexpected behavior. Please pass your input's `attention_mask` to obtain reliable results.\n",
            "Setting `pad_token_id` to `eos_token_id`:128009 for open-end generation.\n"
          ]
        }
      ],
      "source": [
        "reference = \"\\n\".join([\"* \" + documents[i] for i in scores.argsort()[0][::-1][:topk]])\n",
        "\n",
        "messages = [\n",
        "    {\"role\": \"system\", \"content\": \"質問に回答してください。必ず「日本語で回答」すること。また、与えられる資料を参考にして回答すること。\"},\n",
        "    {\"role\": \"user\", \"content\": f\"[参考資料]\\n{reference}\\n\\n[質問] LLMにおけるInference Time Scalingとは？\"},\n",
        "]\n",
        "input_ids = tokenizer.apply_chat_template(\n",
        "    messages,\n",
        "    add_generation_prompt=True,\n",
        "    return_tensors=\"pt\"\n",
        ").to(model.device)\n",
        "\n",
        "terminators = [\n",
        "    tokenizer.eos_token_id,\n",
        "    tokenizer.convert_tokens_to_ids(\"<|eot_id|>\")\n",
        "]\n",
        "\n",
        "outputs = model.generate(\n",
        "    input_ids,\n",
        "    max_new_tokens=256,\n",
        "    eos_token_id=terminators,\n",
        "    do_sample=False,\n",
        "    # temperature=0.6, # If do_sample=True\n",
        "    # top_p=0.9,  # If do_sample=True\n",
        ")"
      ]
    },
    {
      "cell_type": "code",
      "execution_count": 35,
      "metadata": {
        "id": "c27VI95SCzV5"
      },
      "outputs": [
        {
          "name": "stdout",
          "output_type": "stream",
          "text": [
            "日本語で回答します。\n",
            "\n",
            "LLM（Large Language Model）のInference Time Scalingとは、LLMを使用して推論を行う際の計算時間をスケールアップする方法です。つまり、元のモデルに比べてパラメータ数を増やしたり、推論時間を増やしたりすることで、推論速度を向上させることを目指しています。\n",
            "\n",
            "この方法は、Google DeepMindが発表した論文「Scaling LLM Test-Time Compute Optimally can be more Effective than Scaling More Parameters」で提唱されています。この論文では、LLMを使用して推論を行う際の計算時間をスケールアップすることで、より効率的な推論が可能になることを示しています。\n",
            "\n",
            "この方法は、Trasnformer以外のLSTMなどのモデルでも適用できると同時に、深度を増やしたり、モデル構造を変えたりすることで、推論速度を向上させることができることが検証されています。\n"
          ]
        }
      ],
      "source": [
        "response = outputs[0][input_ids.shape[-1]:]\n",
        "print(tokenizer.decode(response, skip_special_tokens=True))"
      ]
    }
  ],
  "metadata": {
    "accelerator": "GPU",
    "colab": {
      "gpuType": "L4",
      "machine_shape": "hm",
      "provenance": []
    },
    "kernelspec": {
      "display_name": "venv",
      "language": "python",
      "name": "python3"
    },
    "language_info": {
      "codemirror_mode": {
        "name": "ipython",
        "version": 3
      },
      "file_extension": ".py",
      "mimetype": "text/x-python",
      "name": "python",
      "nbconvert_exporter": "python",
      "pygments_lexer": "ipython3",
      "version": "3.10.12"
    }
  },
  "nbformat": 4,
  "nbformat_minor": 0
}
